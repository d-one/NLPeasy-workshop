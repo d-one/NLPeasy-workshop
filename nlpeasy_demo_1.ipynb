{
 "cells": [
  {
   "cell_type": "markdown",
   "metadata": {},
   "source": [
    "# NLPeasy Workshop - OKCupid (1/2)"
   ]
  },
  {
   "cell_type": "markdown",
   "metadata": {},
   "source": [
    "In this demo you will use NLPEasy to quickly setup a Pandas-based pipeline, enhanced with ML-Methods and pre-trained models (e.g. word embeddings, sentiment analysis). The results will then be saved in Elasticsearch and a Kibana dashboard is generated automatically to explore the texts and results."
   ]
  },
  {
   "cell_type": "markdown",
   "metadata": {},
   "source": [
    "For the workshop you have 2 possibilities to participate:\n",
    "- **mybinder.org:** No setup needed, only a webbrowser, however only 1-2 GB RAM are available\n",
    "- **own laptop:** You need to install the python environment and either Docker or Elasticsearch+Kibana"
   ]
  },
  {
   "cell_type": "markdown",
   "metadata": {},
   "source": [
    "This is why we have to variants of the executen, a small one for binder and a bigger one to use on your laptop:"
   ]
  },
  {
   "cell_type": "code",
   "execution_count": 1,
   "metadata": {},
   "outputs": [],
   "source": [
    "import os\n",
    "DOIT_SMALL = 'BINDER_PORT' in os.environ"
   ]
  },
  {
   "cell_type": "markdown",
   "metadata": {},
   "source": [
    "You can overwrite the BINDER-setting if you need to or want to trye"
   ]
  },
  {
   "cell_type": "code",
   "execution_count": 2,
   "metadata": {},
   "outputs": [
    {
     "data": {
      "text/plain": [
       "'DOIT_SMALL: False'"
      ]
     },
     "execution_count": 2,
     "metadata": {},
     "output_type": "execute_result"
    }
   ],
   "source": [
    "# We are on bigger machines for the workshop:\n",
    "DOIT_SMALL = False\n",
    "\"DOIT_SMALL: {}\".format(DOIT_SMALL)"
   ]
  },
  {
   "cell_type": "code",
   "execution_count": 3,
   "metadata": {},
   "outputs": [
    {
     "data": {
      "text/plain": [
       "'nrows_to_load: 10000 spacy_model: en_core_web_md spacy_cols: None'"
      ]
     },
     "execution_count": 3,
     "metadata": {},
     "output_type": "execute_result"
    }
   ],
   "source": [
    "if DOIT_SMALL:\n",
    "    nrows_to_load, spacy_model, spacy_cols = 1000, 'en_core_web_sm', ['myself_summary']\n",
    "else:\n",
    "    nrows_to_load, spacy_model, spacy_cols = 10000, 'en_core_web_md', None\n",
    "\"nrows_to_load: {} spacy_model: {} spacy_cols: {}\".format(nrows_to_load, spacy_model, spacy_cols)"
   ]
  },
  {
   "cell_type": "markdown",
   "metadata": {},
   "source": [
    "You can later get the full processed data for analysis if you download (1.3GB)\n",
    "> <https://github.com/d-one/NLPeasy-workshop/releases/download/v0.1/okc_enriched.zip>"
   ]
  },
  {
   "cell_type": "markdown",
   "metadata": {},
   "source": [
    "## Mybinder.org\n",
    "\n",
    "Online version so now installation needed on your laptop - might even work on a laptop ;-)\n",
    "\n",
    "> <https://mybinder.org/v2/gh/d-one/NLPeasy-workshop/master?urlpath=lab> [![Binder](https://mybinder.org/badge_logo.svg)](https://mybinder.org/v2/gh/d-one/NLPeasy-workshop/master?urlpath=lab)\n",
    "\n",
    "> With prepared-data: <https://mybinder.org/v2/gh/d-one/NLPeasy-workshop/elastic?urlpath=lab> [![Binder](https://mybinder.org/badge_logo.svg)](https://mybinder.org/v2/gh/d-one/NLPeasy-workshop/elastic?urlpath=lab)\n",
    "\n",
    "However, there is only 1-2 GB of RAM available, which is tough for our example. Also if you loose your connection or close your laptop for 10 minutes your session is lost."
   ]
  },
  {
   "cell_type": "markdown",
   "metadata": {},
   "source": [
    "## Installation on your own Laptop"
   ]
  },
  {
   "cell_type": "markdown",
   "metadata": {},
   "source": [
    "For this example to completely work you need to have Python at least in Version 3.6 installed.\n",
    "Also you need to have install and start either\n",
    "\n",
    "- **Docker** <https://www.docker.com/get-started>, direct download links for\n",
    "    [Mac (DMG)](https://download.docker.com/mac/stable/Docker.dmg) and\n",
    "    [Windows (exe)](https://download.docker.com/win/stable/Docker%20for%20Windows%20Installer.exe).\n",
    "- **Elasticsearch** and **Kibana**:\n",
    "<https://www.elastic.co/downloads/> or\n",
    "<https://www.elastic.co/downloads/elasticsearch-oss> (pure Apache licensed version)"
   ]
  },
  {
   "cell_type": "markdown",
   "metadata": {},
   "source": [
    "Ideally before the workshop, on the terminal or inside this notebook issue in the terminal:"
   ]
  },
  {
   "cell_type": "raw",
   "metadata": {},
   "source": [
    "git clone https://github.com/d-one/nlpeasy-workshop\n",
    "cd nlpeasy-workshop\n",
    "python -m venv venv\n",
    "source venv/bin/activate\n",
    "pip install -r requirements.txt\n",
    "python -m spacy download en_core_web_md"
   ]
  },
  {
   "cell_type": "markdown",
   "metadata": {},
   "source": [
    "The last command downloads a spacy model for the english language -\n",
    "for the following you need to have at least it's `md` (=medium) version which has wordvectors."
   ]
  },
  {
   "cell_type": "markdown",
   "metadata": {},
   "source": [
    "## Imports"
   ]
  },
  {
   "cell_type": "markdown",
   "metadata": {},
   "source": [
    "We will analyse today a dataset using NLPeasy package. We will also need pandas and numpy."
   ]
  },
  {
   "cell_type": "code",
   "execution_count": 4,
   "metadata": {},
   "outputs": [],
   "source": [
    "import pandas as pd\n",
    "import numpy as np\n",
    "import nlpeasy as ne\n",
    "import util"
   ]
  },
  {
   "cell_type": "markdown",
   "metadata": {},
   "source": [
    "`util` is part of the workshop repository and helps with accessing the Kibana dashboard on binder."
   ]
  },
  {
   "cell_type": "markdown",
   "metadata": {},
   "source": [
    "## Connect to Elastic Stack"
   ]
  },
  {
   "cell_type": "markdown",
   "metadata": {},
   "source": [
    "Connect to running elastic instance on your local machine. If this can't be found, it will start an Open Source stack on your docker.\n",
    "\n",
    "By specifying mount_volume_prefix your Elastic data is saved."
   ]
  },
  {
   "cell_type": "code",
   "execution_count": 5,
   "metadata": {},
   "outputs": [
    {
     "data": {
      "text/plain": [
       "'Elasticsearch already running'"
      ]
     },
     "metadata": {},
     "output_type": "display_data"
    },
    {
     "data": {
      "text/html": [
       "ElasticSearch on <a href='http://localhost:9200'>http://localhost:9200</a> <br> Kibana on <a href='http://localhost:5601'>http://localhost:5601</a>"
      ],
      "text/plain": [
       "ElasticSearch on http://localhost:9200\n",
       "Kibana on http://localhost:5601"
      ]
     },
     "metadata": {},
     "output_type": "display_data"
    }
   ],
   "source": [
    "elk = ne.connect_elastic(elk_version='7.10.2',\n",
    "                         mount_volume_prefix='./elastic-data-live/')"
   ]
  },
  {
   "cell_type": "markdown",
   "metadata": {},
   "source": [
    "> If it is started on docker it will on the first time pull the images (1.3GB)!\n",
    "BTW, this function is not blocking, i.e. the servers might only be active couple of seconds later.\n",
    "Setting mountVolumePrefix=\"./elastic-data/\" would keep the data of elastic in your\n",
    "filesystems and then the data survives container restarts"
   ]
  },
  {
   "cell_type": "markdown",
   "metadata": {},
   "source": [
    "On binder you do not have access to it's localhost. However set up some binder-jupyter magic so you can access it:"
   ]
  },
  {
   "cell_type": "code",
   "execution_count": 6,
   "metadata": {},
   "outputs": [],
   "source": [
    "if util.BINDER:\n",
    "   util.display_kibana_link()"
   ]
  },
  {
   "cell_type": "markdown",
   "metadata": {},
   "source": [
    "## Read and Process Data"
   ]
  },
  {
   "cell_type": "markdown",
   "metadata": {},
   "source": [
    "We use 'OK Cupid' dataset in this workshop (the anonymized legal version of it).\n",
    "Let's load the data and see what we have here."
   ]
  },
  {
   "cell_type": "code",
   "execution_count": 7,
   "metadata": {},
   "outputs": [
    {
     "name": "stdout",
     "output_type": "stream",
     "text": [
      "Getting data from profiles.csv.zip\n"
     ]
    },
    {
     "data": {
      "text/html": [
       "<div>\n",
       "<style scoped>\n",
       "    .dataframe tbody tr th:only-of-type {\n",
       "        vertical-align: middle;\n",
       "    }\n",
       "\n",
       "    .dataframe tbody tr th {\n",
       "        vertical-align: top;\n",
       "    }\n",
       "\n",
       "    .dataframe thead th {\n",
       "        text-align: right;\n",
       "    }\n",
       "</style>\n",
       "<table border=\"1\" class=\"dataframe\">\n",
       "  <thead>\n",
       "    <tr style=\"text-align: right;\">\n",
       "      <th></th>\n",
       "      <th>age</th>\n",
       "      <th>body_type</th>\n",
       "      <th>diet</th>\n",
       "      <th>drinks</th>\n",
       "      <th>drugs</th>\n",
       "      <th>education</th>\n",
       "      <th>essay0</th>\n",
       "      <th>essay1</th>\n",
       "      <th>essay2</th>\n",
       "      <th>essay3</th>\n",
       "      <th>...</th>\n",
       "      <th>location</th>\n",
       "      <th>offspring</th>\n",
       "      <th>orientation</th>\n",
       "      <th>pets</th>\n",
       "      <th>religion</th>\n",
       "      <th>sex</th>\n",
       "      <th>sign</th>\n",
       "      <th>smokes</th>\n",
       "      <th>speaks</th>\n",
       "      <th>status</th>\n",
       "    </tr>\n",
       "  </thead>\n",
       "  <tbody>\n",
       "    <tr>\n",
       "      <th>0</th>\n",
       "      <td>22</td>\n",
       "      <td>a little extra</td>\n",
       "      <td>strictly anything</td>\n",
       "      <td>socially</td>\n",
       "      <td>never</td>\n",
       "      <td>working on college/university</td>\n",
       "      <td>about me:&lt;br /&gt;\\n&lt;br /&gt;\\ni would love to think...</td>\n",
       "      <td>currently working as an international agent fo...</td>\n",
       "      <td>making people laugh.&lt;br /&gt;\\nranting about a go...</td>\n",
       "      <td>the way i look. i am a six foot half asian, ha...</td>\n",
       "      <td>...</td>\n",
       "      <td>south san francisco, california</td>\n",
       "      <td>doesn&amp;rsquo;t have kids, but might want them</td>\n",
       "      <td>straight</td>\n",
       "      <td>likes dogs and likes cats</td>\n",
       "      <td>agnosticism and very serious about it</td>\n",
       "      <td>m</td>\n",
       "      <td>gemini</td>\n",
       "      <td>sometimes</td>\n",
       "      <td>english</td>\n",
       "      <td>single</td>\n",
       "    </tr>\n",
       "    <tr>\n",
       "      <th>1</th>\n",
       "      <td>35</td>\n",
       "      <td>average</td>\n",
       "      <td>mostly other</td>\n",
       "      <td>often</td>\n",
       "      <td>sometimes</td>\n",
       "      <td>working on space camp</td>\n",
       "      <td>i am a chef: this is what that means.&lt;br /&gt;\\n1...</td>\n",
       "      <td>dedicating everyday to being an unbelievable b...</td>\n",
       "      <td>being silly. having ridiculous amonts of fun w...</td>\n",
       "      <td>NaN</td>\n",
       "      <td>...</td>\n",
       "      <td>oakland, california</td>\n",
       "      <td>doesn&amp;rsquo;t have kids, but might want them</td>\n",
       "      <td>straight</td>\n",
       "      <td>likes dogs and likes cats</td>\n",
       "      <td>agnosticism but not too serious about it</td>\n",
       "      <td>m</td>\n",
       "      <td>cancer</td>\n",
       "      <td>no</td>\n",
       "      <td>english (fluently), spanish (poorly), french (...</td>\n",
       "      <td>single</td>\n",
       "    </tr>\n",
       "    <tr>\n",
       "      <th>2</th>\n",
       "      <td>38</td>\n",
       "      <td>thin</td>\n",
       "      <td>anything</td>\n",
       "      <td>socially</td>\n",
       "      <td>NaN</td>\n",
       "      <td>graduated from masters program</td>\n",
       "      <td>i'm not ashamed of much, but writing public te...</td>\n",
       "      <td>i make nerdy software for musicians, artists, ...</td>\n",
       "      <td>improvising in different contexts. alternating...</td>\n",
       "      <td>my large jaw and large glasses are the physica...</td>\n",
       "      <td>...</td>\n",
       "      <td>san francisco, california</td>\n",
       "      <td>NaN</td>\n",
       "      <td>straight</td>\n",
       "      <td>has cats</td>\n",
       "      <td>NaN</td>\n",
       "      <td>m</td>\n",
       "      <td>pisces but it doesn&amp;rsquo;t matter</td>\n",
       "      <td>no</td>\n",
       "      <td>english, french, c++</td>\n",
       "      <td>available</td>\n",
       "    </tr>\n",
       "    <tr>\n",
       "      <th>3</th>\n",
       "      <td>23</td>\n",
       "      <td>thin</td>\n",
       "      <td>vegetarian</td>\n",
       "      <td>socially</td>\n",
       "      <td>NaN</td>\n",
       "      <td>working on college/university</td>\n",
       "      <td>i work in a library and go to school. . .</td>\n",
       "      <td>reading things written by old dead people</td>\n",
       "      <td>playing synthesizers and organizing books acco...</td>\n",
       "      <td>socially awkward but i do my best</td>\n",
       "      <td>...</td>\n",
       "      <td>berkeley, california</td>\n",
       "      <td>doesn&amp;rsquo;t want kids</td>\n",
       "      <td>straight</td>\n",
       "      <td>likes cats</td>\n",
       "      <td>NaN</td>\n",
       "      <td>m</td>\n",
       "      <td>pisces</td>\n",
       "      <td>no</td>\n",
       "      <td>english, german (poorly)</td>\n",
       "      <td>single</td>\n",
       "    </tr>\n",
       "    <tr>\n",
       "      <th>4</th>\n",
       "      <td>29</td>\n",
       "      <td>athletic</td>\n",
       "      <td>NaN</td>\n",
       "      <td>socially</td>\n",
       "      <td>never</td>\n",
       "      <td>graduated from college/university</td>\n",
       "      <td>hey how's it going? currently vague on the pro...</td>\n",
       "      <td>work work work work + play</td>\n",
       "      <td>creating imagery to look at:&lt;br /&gt;\\nhttp://bag...</td>\n",
       "      <td>i smile a lot and my inquisitive nature</td>\n",
       "      <td>...</td>\n",
       "      <td>san francisco, california</td>\n",
       "      <td>NaN</td>\n",
       "      <td>straight</td>\n",
       "      <td>likes dogs and likes cats</td>\n",
       "      <td>NaN</td>\n",
       "      <td>m</td>\n",
       "      <td>aquarius</td>\n",
       "      <td>no</td>\n",
       "      <td>english</td>\n",
       "      <td>single</td>\n",
       "    </tr>\n",
       "  </tbody>\n",
       "</table>\n",
       "<p>5 rows × 31 columns</p>\n",
       "</div>"
      ],
      "text/plain": [
       "   age       body_type               diet    drinks      drugs  \\\n",
       "0   22  a little extra  strictly anything  socially      never   \n",
       "1   35         average       mostly other     often  sometimes   \n",
       "2   38            thin           anything  socially        NaN   \n",
       "3   23            thin         vegetarian  socially        NaN   \n",
       "4   29        athletic                NaN  socially      never   \n",
       "\n",
       "                           education  \\\n",
       "0      working on college/university   \n",
       "1              working on space camp   \n",
       "2     graduated from masters program   \n",
       "3      working on college/university   \n",
       "4  graduated from college/university   \n",
       "\n",
       "                                              essay0  \\\n",
       "0  about me:<br />\\n<br />\\ni would love to think...   \n",
       "1  i am a chef: this is what that means.<br />\\n1...   \n",
       "2  i'm not ashamed of much, but writing public te...   \n",
       "3          i work in a library and go to school. . .   \n",
       "4  hey how's it going? currently vague on the pro...   \n",
       "\n",
       "                                              essay1  \\\n",
       "0  currently working as an international agent fo...   \n",
       "1  dedicating everyday to being an unbelievable b...   \n",
       "2  i make nerdy software for musicians, artists, ...   \n",
       "3          reading things written by old dead people   \n",
       "4                         work work work work + play   \n",
       "\n",
       "                                              essay2  \\\n",
       "0  making people laugh.<br />\\nranting about a go...   \n",
       "1  being silly. having ridiculous amonts of fun w...   \n",
       "2  improvising in different contexts. alternating...   \n",
       "3  playing synthesizers and organizing books acco...   \n",
       "4  creating imagery to look at:<br />\\nhttp://bag...   \n",
       "\n",
       "                                              essay3  ...  \\\n",
       "0  the way i look. i am a six foot half asian, ha...  ...   \n",
       "1                                                NaN  ...   \n",
       "2  my large jaw and large glasses are the physica...  ...   \n",
       "3                  socially awkward but i do my best  ...   \n",
       "4            i smile a lot and my inquisitive nature  ...   \n",
       "\n",
       "                          location  \\\n",
       "0  south san francisco, california   \n",
       "1              oakland, california   \n",
       "2        san francisco, california   \n",
       "3             berkeley, california   \n",
       "4        san francisco, california   \n",
       "\n",
       "                                      offspring orientation  \\\n",
       "0  doesn&rsquo;t have kids, but might want them    straight   \n",
       "1  doesn&rsquo;t have kids, but might want them    straight   \n",
       "2                                           NaN    straight   \n",
       "3                       doesn&rsquo;t want kids    straight   \n",
       "4                                           NaN    straight   \n",
       "\n",
       "                        pets                                  religion sex  \\\n",
       "0  likes dogs and likes cats     agnosticism and very serious about it   m   \n",
       "1  likes dogs and likes cats  agnosticism but not too serious about it   m   \n",
       "2                   has cats                                       NaN   m   \n",
       "3                 likes cats                                       NaN   m   \n",
       "4  likes dogs and likes cats                                       NaN   m   \n",
       "\n",
       "                                 sign     smokes  \\\n",
       "0                              gemini  sometimes   \n",
       "1                              cancer         no   \n",
       "2  pisces but it doesn&rsquo;t matter         no   \n",
       "3                              pisces         no   \n",
       "4                            aquarius         no   \n",
       "\n",
       "                                              speaks     status  \n",
       "0                                            english     single  \n",
       "1  english (fluently), spanish (poorly), french (...     single  \n",
       "2                               english, french, c++  available  \n",
       "3                           english, german (poorly)     single  \n",
       "4                                            english     single  \n",
       "\n",
       "[5 rows x 31 columns]"
      ]
     },
     "execution_count": 7,
     "metadata": {},
     "output_type": "execute_result"
    }
   ],
   "source": [
    "url = \"profiles.csv.zip\" if \"profiles.csv.zip\" in os.listdir() else \"https://github.com/rudeboybert/JSE_OkCupid/raw/master/profiles.csv.zip\"\n",
    "print(f\"Getting data from {url}\")\n",
    "okc = pd.read_csv('https://github.com/rudeboybert/JSE_OkCupid/raw/master/profiles.csv.zip', nrows=nrows_to_load)\n",
    "okc.head()"
   ]
  },
  {
   "cell_type": "markdown",
   "metadata": {},
   "source": [
    "We have some categorical / continuous variables about the OK cupid customers:\n",
    "* body type\n",
    "* diet\n",
    "* education\n",
    "* relgion\n",
    "* sex\n",
    "* astro sign\n",
    "* preferences for alcohol, cigarettes, drugs\n",
    "* sexual orientation\n",
    "* relationship status\n",
    "* language\n",
    "* location\n",
    "\n",
    "\n",
    "But they also needed to answer some questions (textual data):\n",
    "\n",
    "* essay0- My self summary\n",
    "* essay1- What I’m doing with my life\n",
    "* essay2- I’m really good at\n",
    "* essay3- The first thing people usually notice about me\n",
    "* essay4- Favorite books, movies, show, music, and food\n",
    "* essay5- The six things I could never do without\n",
    "* essay6- I spend a lot of time thinking about\n",
    "* essay7- On a typical Friday night I am\n",
    "* essay8- The most private thing I am willing to admit\n",
    "* essay9- You should message me if...\n",
    "\n",
    "Source: https://github.com/rudeboybert/JSE_OkCupid/blob/master/okcupid_codebook.txt  \n"
   ]
  },
  {
   "cell_type": "markdown",
   "metadata": {},
   "source": [
    "### Drop some columns"
   ]
  },
  {
   "cell_type": "code",
   "execution_count": 8,
   "metadata": {},
   "outputs": [
    {
     "data": {
      "text/plain": [
       "Index(['age', 'body_type', 'diet', 'drinks', 'drugs', 'education', 'essay0',\n",
       "       'essay1', 'essay2', 'essay3', 'essay4', 'essay5', 'essay6', 'essay7',\n",
       "       'essay8', 'essay9', 'ethnicity', 'height', 'income', 'job',\n",
       "       'last_online', 'location', 'offspring', 'orientation', 'pets',\n",
       "       'religion', 'sex', 'sign', 'smokes', 'speaks', 'status'],\n",
       "      dtype='object')"
      ]
     },
     "execution_count": 8,
     "metadata": {},
     "output_type": "execute_result"
    }
   ],
   "source": [
    "okc.columns"
   ]
  },
  {
   "cell_type": "code",
   "execution_count": 9,
   "metadata": {},
   "outputs": [],
   "source": [
    "okc = okc.drop(['essay1', 'essay2', 'essay3', 'essay4', 'essay5', 'essay6', 'essay8'], axis=1)"
   ]
  },
  {
   "cell_type": "code",
   "execution_count": 10,
   "metadata": {},
   "outputs": [
    {
     "data": {
      "text/html": [
       "<div>\n",
       "<style scoped>\n",
       "    .dataframe tbody tr th:only-of-type {\n",
       "        vertical-align: middle;\n",
       "    }\n",
       "\n",
       "    .dataframe tbody tr th {\n",
       "        vertical-align: top;\n",
       "    }\n",
       "\n",
       "    .dataframe thead th {\n",
       "        text-align: right;\n",
       "    }\n",
       "</style>\n",
       "<table border=\"1\" class=\"dataframe\">\n",
       "  <thead>\n",
       "    <tr style=\"text-align: right;\">\n",
       "      <th></th>\n",
       "      <th>age</th>\n",
       "      <th>body_type</th>\n",
       "      <th>diet</th>\n",
       "      <th>drinks</th>\n",
       "      <th>drugs</th>\n",
       "      <th>education</th>\n",
       "      <th>essay0</th>\n",
       "      <th>essay7</th>\n",
       "      <th>essay9</th>\n",
       "      <th>ethnicity</th>\n",
       "      <th>...</th>\n",
       "      <th>location</th>\n",
       "      <th>offspring</th>\n",
       "      <th>orientation</th>\n",
       "      <th>pets</th>\n",
       "      <th>religion</th>\n",
       "      <th>sex</th>\n",
       "      <th>sign</th>\n",
       "      <th>smokes</th>\n",
       "      <th>speaks</th>\n",
       "      <th>status</th>\n",
       "    </tr>\n",
       "  </thead>\n",
       "  <tbody>\n",
       "    <tr>\n",
       "      <th>0</th>\n",
       "      <td>22</td>\n",
       "      <td>a little extra</td>\n",
       "      <td>strictly anything</td>\n",
       "      <td>socially</td>\n",
       "      <td>never</td>\n",
       "      <td>working on college/university</td>\n",
       "      <td>about me:&lt;br /&gt;\\n&lt;br /&gt;\\ni would love to think...</td>\n",
       "      <td>trying to find someone to hang out with. i am ...</td>\n",
       "      <td>you want to be swept off your feet!&lt;br /&gt;\\nyou...</td>\n",
       "      <td>asian, white</td>\n",
       "      <td>...</td>\n",
       "      <td>south san francisco, california</td>\n",
       "      <td>doesn&amp;rsquo;t have kids, but might want them</td>\n",
       "      <td>straight</td>\n",
       "      <td>likes dogs and likes cats</td>\n",
       "      <td>agnosticism and very serious about it</td>\n",
       "      <td>m</td>\n",
       "      <td>gemini</td>\n",
       "      <td>sometimes</td>\n",
       "      <td>english</td>\n",
       "      <td>single</td>\n",
       "    </tr>\n",
       "    <tr>\n",
       "      <th>1</th>\n",
       "      <td>35</td>\n",
       "      <td>average</td>\n",
       "      <td>mostly other</td>\n",
       "      <td>often</td>\n",
       "      <td>sometimes</td>\n",
       "      <td>working on space camp</td>\n",
       "      <td>i am a chef: this is what that means.&lt;br /&gt;\\n1...</td>\n",
       "      <td>NaN</td>\n",
       "      <td>NaN</td>\n",
       "      <td>white</td>\n",
       "      <td>...</td>\n",
       "      <td>oakland, california</td>\n",
       "      <td>doesn&amp;rsquo;t have kids, but might want them</td>\n",
       "      <td>straight</td>\n",
       "      <td>likes dogs and likes cats</td>\n",
       "      <td>agnosticism but not too serious about it</td>\n",
       "      <td>m</td>\n",
       "      <td>cancer</td>\n",
       "      <td>no</td>\n",
       "      <td>english (fluently), spanish (poorly), french (...</td>\n",
       "      <td>single</td>\n",
       "    </tr>\n",
       "    <tr>\n",
       "      <th>2</th>\n",
       "      <td>38</td>\n",
       "      <td>thin</td>\n",
       "      <td>anything</td>\n",
       "      <td>socially</td>\n",
       "      <td>NaN</td>\n",
       "      <td>graduated from masters program</td>\n",
       "      <td>i'm not ashamed of much, but writing public te...</td>\n",
       "      <td>viewing. listening. dancing. talking. drinking...</td>\n",
       "      <td>you are bright, open, intense, silly, ironic, ...</td>\n",
       "      <td>NaN</td>\n",
       "      <td>...</td>\n",
       "      <td>san francisco, california</td>\n",
       "      <td>NaN</td>\n",
       "      <td>straight</td>\n",
       "      <td>has cats</td>\n",
       "      <td>NaN</td>\n",
       "      <td>m</td>\n",
       "      <td>pisces but it doesn&amp;rsquo;t matter</td>\n",
       "      <td>no</td>\n",
       "      <td>english, french, c++</td>\n",
       "      <td>available</td>\n",
       "    </tr>\n",
       "    <tr>\n",
       "      <th>3</th>\n",
       "      <td>23</td>\n",
       "      <td>thin</td>\n",
       "      <td>vegetarian</td>\n",
       "      <td>socially</td>\n",
       "      <td>NaN</td>\n",
       "      <td>working on college/university</td>\n",
       "      <td>i work in a library and go to school. . .</td>\n",
       "      <td>NaN</td>\n",
       "      <td>you feel so inclined.</td>\n",
       "      <td>white</td>\n",
       "      <td>...</td>\n",
       "      <td>berkeley, california</td>\n",
       "      <td>doesn&amp;rsquo;t want kids</td>\n",
       "      <td>straight</td>\n",
       "      <td>likes cats</td>\n",
       "      <td>NaN</td>\n",
       "      <td>m</td>\n",
       "      <td>pisces</td>\n",
       "      <td>no</td>\n",
       "      <td>english, german (poorly)</td>\n",
       "      <td>single</td>\n",
       "    </tr>\n",
       "    <tr>\n",
       "      <th>4</th>\n",
       "      <td>29</td>\n",
       "      <td>athletic</td>\n",
       "      <td>NaN</td>\n",
       "      <td>socially</td>\n",
       "      <td>never</td>\n",
       "      <td>graduated from college/university</td>\n",
       "      <td>hey how's it going? currently vague on the pro...</td>\n",
       "      <td>NaN</td>\n",
       "      <td>NaN</td>\n",
       "      <td>asian, black, other</td>\n",
       "      <td>...</td>\n",
       "      <td>san francisco, california</td>\n",
       "      <td>NaN</td>\n",
       "      <td>straight</td>\n",
       "      <td>likes dogs and likes cats</td>\n",
       "      <td>NaN</td>\n",
       "      <td>m</td>\n",
       "      <td>aquarius</td>\n",
       "      <td>no</td>\n",
       "      <td>english</td>\n",
       "      <td>single</td>\n",
       "    </tr>\n",
       "  </tbody>\n",
       "</table>\n",
       "<p>5 rows × 24 columns</p>\n",
       "</div>"
      ],
      "text/plain": [
       "   age       body_type               diet    drinks      drugs  \\\n",
       "0   22  a little extra  strictly anything  socially      never   \n",
       "1   35         average       mostly other     often  sometimes   \n",
       "2   38            thin           anything  socially        NaN   \n",
       "3   23            thin         vegetarian  socially        NaN   \n",
       "4   29        athletic                NaN  socially      never   \n",
       "\n",
       "                           education  \\\n",
       "0      working on college/university   \n",
       "1              working on space camp   \n",
       "2     graduated from masters program   \n",
       "3      working on college/university   \n",
       "4  graduated from college/university   \n",
       "\n",
       "                                              essay0  \\\n",
       "0  about me:<br />\\n<br />\\ni would love to think...   \n",
       "1  i am a chef: this is what that means.<br />\\n1...   \n",
       "2  i'm not ashamed of much, but writing public te...   \n",
       "3          i work in a library and go to school. . .   \n",
       "4  hey how's it going? currently vague on the pro...   \n",
       "\n",
       "                                              essay7  \\\n",
       "0  trying to find someone to hang out with. i am ...   \n",
       "1                                                NaN   \n",
       "2  viewing. listening. dancing. talking. drinking...   \n",
       "3                                                NaN   \n",
       "4                                                NaN   \n",
       "\n",
       "                                              essay9            ethnicity  \\\n",
       "0  you want to be swept off your feet!<br />\\nyou...         asian, white   \n",
       "1                                                NaN                white   \n",
       "2  you are bright, open, intense, silly, ironic, ...                  NaN   \n",
       "3                              you feel so inclined.                white   \n",
       "4                                                NaN  asian, black, other   \n",
       "\n",
       "   ...                         location  \\\n",
       "0  ...  south san francisco, california   \n",
       "1  ...              oakland, california   \n",
       "2  ...        san francisco, california   \n",
       "3  ...             berkeley, california   \n",
       "4  ...        san francisco, california   \n",
       "\n",
       "                                      offspring orientation  \\\n",
       "0  doesn&rsquo;t have kids, but might want them    straight   \n",
       "1  doesn&rsquo;t have kids, but might want them    straight   \n",
       "2                                           NaN    straight   \n",
       "3                       doesn&rsquo;t want kids    straight   \n",
       "4                                           NaN    straight   \n",
       "\n",
       "                        pets                                  religion sex  \\\n",
       "0  likes dogs and likes cats     agnosticism and very serious about it   m   \n",
       "1  likes dogs and likes cats  agnosticism but not too serious about it   m   \n",
       "2                   has cats                                       NaN   m   \n",
       "3                 likes cats                                       NaN   m   \n",
       "4  likes dogs and likes cats                                       NaN   m   \n",
       "\n",
       "                                 sign     smokes  \\\n",
       "0                              gemini  sometimes   \n",
       "1                              cancer         no   \n",
       "2  pisces but it doesn&rsquo;t matter         no   \n",
       "3                              pisces         no   \n",
       "4                            aquarius         no   \n",
       "\n",
       "                                              speaks     status  \n",
       "0                                            english     single  \n",
       "1  english (fluently), spanish (poorly), french (...     single  \n",
       "2                               english, french, c++  available  \n",
       "3                           english, german (poorly)     single  \n",
       "4                                            english     single  \n",
       "\n",
       "[5 rows x 24 columns]"
      ]
     },
     "execution_count": 10,
     "metadata": {},
     "output_type": "execute_result"
    }
   ],
   "source": [
    "okc.head()"
   ]
  },
  {
   "cell_type": "markdown",
   "metadata": {},
   "source": [
    "### Preprocessing"
   ]
  },
  {
   "cell_type": "markdown",
   "metadata": {},
   "source": [
    "We want to do some cleanup on the data first to make it ready for analysis.\n",
    "* Replace NaN values\n",
    "* Remove HTML tags\n",
    "* Height inch --> cm"
   ]
  },
  {
   "cell_type": "code",
   "execution_count": 11,
   "metadata": {},
   "outputs": [
    {
     "name": "stdout",
     "output_type": "stream",
     "text": [
      "essay0 done.\n",
      "essay7 done.\n",
      "essay9 done.\n"
     ]
    }
   ],
   "source": [
    "#1: replace NaN with '', replace '\\n' with ' ' \n",
    "okc = okc.replace(np.nan, '', regex=True)\n",
    "okc = okc.replace('\\n', ' ', regex=True)\n",
    "\n",
    "#2: remove html tags\n",
    "from bs4 import BeautifulSoup\n",
    "import warnings\n",
    "warnings.filterwarnings(\"ignore\", category=UserWarning, module='bs4')\n",
    "\n",
    "fixcols = okc.columns[okc.columns.str.startswith('essay')]\n",
    "for col in fixcols:\n",
    "    okc[col] = [BeautifulSoup(text).get_text() for text in okc[col] ]\n",
    "    print(col + ' done.')\n",
    "\n",
    "okc['offspring'] = [BeautifulSoup(text).get_text() for text in okc['offspring'] ]\n",
    "okc['sign'] = [BeautifulSoup(text).get_text() for text in okc['sign'] ]"
   ]
  },
  {
   "cell_type": "code",
   "execution_count": 12,
   "metadata": {},
   "outputs": [],
   "source": [
    "#convert height in inches to cm\n",
    "okc['height_cm'] = round(pd.to_numeric(okc['height'])*2.54, 0)"
   ]
  },
  {
   "cell_type": "markdown",
   "metadata": {},
   "source": [
    "### Add Lat/Long for location"
   ]
  },
  {
   "cell_type": "markdown",
   "metadata": {},
   "source": [
    "Kibana does not containt mappings of place names to geographical coordinates.\n",
    "We have provided a file to map coordinates to the city names so that we can plot it in Kibana."
   ]
  },
  {
   "cell_type": "code",
   "execution_count": 13,
   "metadata": {},
   "outputs": [],
   "source": [
    "cities = pd.read_csv('city_coordinates.csv', index_col=0)\n",
    "okc = okc.merge(cities, how='left', left_on='location', right_on = 'city')"
   ]
  },
  {
   "cell_type": "code",
   "execution_count": 14,
   "metadata": {},
   "outputs": [],
   "source": [
    "pd.set_option(\"display.max_columns\", 500)"
   ]
  },
  {
   "cell_type": "code",
   "execution_count": 15,
   "metadata": {},
   "outputs": [],
   "source": [
    "okc['geolocation'] = okc['lat'].astype(str) + ',' + okc['long'].astype(str) \n",
    "okc = okc.drop(columns = ['lat', 'long'])"
   ]
  },
  {
   "cell_type": "markdown",
   "metadata": {},
   "source": [
    "### Feature Engineering\n",
    "\n",
    "Let's construct some other features that could be interesting.\n",
    "Some of the categorical features are too verbose, and we want to make it shorter.\n",
    "E.g. from the pets column, we will summarise those that like dogs and those that have dogs into a 'likes_dogs' category, like so:\n",
    "\n",
    "The same we will do for the cat lovers."
   ]
  },
  {
   "cell_type": "code",
   "execution_count": 16,
   "metadata": {},
   "outputs": [],
   "source": [
    "okc['pets'].fillna('', inplace=True)\n",
    "okc['likes_dogs'] = 0\n",
    "okc.loc[okc['pets'].str.contains('likes dogs'), 'likes_dogs'] = 1\n",
    "okc.loc[okc['pets'].str.contains('has dogs'), 'likes_dogs'] = 1\n",
    "\n",
    "okc['likes_cats'] = 0\n",
    "okc.loc[okc['pets'].str.contains('likes cats'), 'likes_cats'] = 1\n",
    "okc.loc[okc['pets'].str.contains('has cats'), 'likes_cats'] = 1"
   ]
  },
  {
   "cell_type": "code",
   "execution_count": 17,
   "metadata": {},
   "outputs": [
    {
     "data": {
      "text/html": [
       "<div>\n",
       "<style scoped>\n",
       "    .dataframe tbody tr th:only-of-type {\n",
       "        vertical-align: middle;\n",
       "    }\n",
       "\n",
       "    .dataframe tbody tr th {\n",
       "        vertical-align: top;\n",
       "    }\n",
       "\n",
       "    .dataframe thead th {\n",
       "        text-align: right;\n",
       "    }\n",
       "</style>\n",
       "<table border=\"1\" class=\"dataframe\">\n",
       "  <thead>\n",
       "    <tr style=\"text-align: right;\">\n",
       "      <th></th>\n",
       "      <th>pets</th>\n",
       "      <th>likes_dogs</th>\n",
       "      <th>likes_cats</th>\n",
       "    </tr>\n",
       "  </thead>\n",
       "  <tbody>\n",
       "    <tr>\n",
       "      <th>0</th>\n",
       "      <td>likes dogs and likes cats</td>\n",
       "      <td>1</td>\n",
       "      <td>1</td>\n",
       "    </tr>\n",
       "    <tr>\n",
       "      <th>1</th>\n",
       "      <td>likes dogs and likes cats</td>\n",
       "      <td>1</td>\n",
       "      <td>1</td>\n",
       "    </tr>\n",
       "    <tr>\n",
       "      <th>2</th>\n",
       "      <td>has cats</td>\n",
       "      <td>0</td>\n",
       "      <td>1</td>\n",
       "    </tr>\n",
       "    <tr>\n",
       "      <th>3</th>\n",
       "      <td>likes cats</td>\n",
       "      <td>0</td>\n",
       "      <td>1</td>\n",
       "    </tr>\n",
       "    <tr>\n",
       "      <th>4</th>\n",
       "      <td>likes dogs and likes cats</td>\n",
       "      <td>1</td>\n",
       "      <td>1</td>\n",
       "    </tr>\n",
       "  </tbody>\n",
       "</table>\n",
       "</div>"
      ],
      "text/plain": [
       "                        pets  likes_dogs  likes_cats\n",
       "0  likes dogs and likes cats           1           1\n",
       "1  likes dogs and likes cats           1           1\n",
       "2                   has cats           0           1\n",
       "3                 likes cats           0           1\n",
       "4  likes dogs and likes cats           1           1"
      ]
     },
     "execution_count": 17,
     "metadata": {},
     "output_type": "execute_result"
    }
   ],
   "source": [
    "okc[['pets', 'likes_dogs', 'likes_cats']].head()"
   ]
  },
  {
   "cell_type": "markdown",
   "metadata": {},
   "source": [
    "Also, languages are stuffed into one column so let's take them apart.\n",
    "And let's count how many languages they speak."
   ]
  },
  {
   "cell_type": "code",
   "execution_count": 18,
   "metadata": {},
   "outputs": [
    {
     "data": {
      "text/plain": [
       "Index(['age', 'body_type', 'diet', 'drinks', 'drugs', 'education', 'essay0',\n",
       "       'essay7', 'essay9', 'ethnicity', 'height', 'income', 'job',\n",
       "       'last_online', 'location', 'offspring', 'orientation', 'pets',\n",
       "       'religion', 'sex', 'sign', 'smokes', 'speaks', 'status', 'height_cm',\n",
       "       'city', 'geolocation', 'likes_dogs', 'likes_cats'],\n",
       "      dtype='object')"
      ]
     },
     "execution_count": 18,
     "metadata": {},
     "output_type": "execute_result"
    }
   ],
   "source": [
    "okc.columns"
   ]
  },
  {
   "cell_type": "code",
   "execution_count": 19,
   "metadata": {},
   "outputs": [],
   "source": [
    "# first extract languages without modifiers, e.g. 'german (poorly)'\n",
    "okc['language'] = okc['speaks'].str.replace(r'\\s*\\([^)]*\\)','').str.split(pat=',\\s*', expand=False)\n",
    "# now just split the speaks col and save it in place\n",
    "okc['speaks'] = okc['speaks'].str.split(pat=r',\\s*', expand=False)"
   ]
  },
  {
   "cell_type": "code",
   "execution_count": 20,
   "metadata": {},
   "outputs": [],
   "source": [
    "okc['language_count'] = okc['speaks'].map(len)"
   ]
  },
  {
   "cell_type": "markdown",
   "metadata": {},
   "source": [
    "Columns 'religion' and 'sign' also indicated how much people care about the respective topic.\n",
    "Let's break it into a clean religion and a clean sign column:"
   ]
  },
  {
   "cell_type": "code",
   "execution_count": 21,
   "metadata": {},
   "outputs": [],
   "source": [
    "# isolate religion\n",
    "okc[['religion_clean', 'religion_remainder']] = okc['religion'].str.split(pat='and|but', expand=True)\n",
    "# isolate astro sign\n",
    "okc[['sign_clean', 'sign_remainder']] = okc['sign'].str.split(pat='and|but', expand=True)"
   ]
  },
  {
   "cell_type": "code",
   "execution_count": 22,
   "metadata": {},
   "outputs": [
    {
     "data": {
      "text/plain": [
       "array(['gemini', 'cancer', 'pisces', 'aquarius', 'taurus', 'virgo',\n",
       "       'sagittarius', 'leo', nan, 'aries', 'libra', 'scorpio',\n",
       "       'capricorn'], dtype=object)"
      ]
     },
     "execution_count": 22,
     "metadata": {},
     "output_type": "execute_result"
    }
   ],
   "source": [
    "okc['sign_clean'] = okc['sign_clean'].str.strip()\n",
    "okc['sign_clean'] = okc['sign_clean'].replace('', np.nan)\n",
    "okc['sign_clean'].unique()"
   ]
  },
  {
   "cell_type": "code",
   "execution_count": 23,
   "metadata": {},
   "outputs": [
    {
     "data": {
      "text/plain": [
       "array(['agnosticism', nan, 'atheism', 'christianity', 'other',\n",
       "       'catholicism', 'buddhism', 'judaism', 'hinduism', 'islam'],\n",
       "      dtype=object)"
      ]
     },
     "execution_count": 23,
     "metadata": {},
     "output_type": "execute_result"
    }
   ],
   "source": [
    "okc['religion_clean'] = okc['religion_clean'].str.strip()\n",
    "okc['religion_clean'] = okc['religion_clean'].replace('', np.nan)\n",
    "okc['religion_clean'].unique()"
   ]
  },
  {
   "cell_type": "markdown",
   "metadata": {},
   "source": [
    "Let's do the same with ethnicity, to get it separated:"
   ]
  },
  {
   "cell_type": "code",
   "execution_count": 24,
   "metadata": {},
   "outputs": [],
   "source": [
    "okc['ethnicity'] = okc['ethnicity'].str.split(pat=r',\\s*', expand=False)"
   ]
  },
  {
   "cell_type": "code",
   "execution_count": 25,
   "metadata": {},
   "outputs": [],
   "source": [
    "okc = okc.rename(columns={\"essay0\": \"myself_summary\", \"essay7\": \"typical_friday_night\", \"essay9\": \"message_me_if\"})"
   ]
  },
  {
   "cell_type": "code",
   "execution_count": 26,
   "metadata": {},
   "outputs": [
    {
     "data": {
      "text/html": [
       "<div>\n",
       "<style scoped>\n",
       "    .dataframe tbody tr th:only-of-type {\n",
       "        vertical-align: middle;\n",
       "    }\n",
       "\n",
       "    .dataframe tbody tr th {\n",
       "        vertical-align: top;\n",
       "    }\n",
       "\n",
       "    .dataframe thead th {\n",
       "        text-align: right;\n",
       "    }\n",
       "</style>\n",
       "<table border=\"1\" class=\"dataframe\">\n",
       "  <thead>\n",
       "    <tr style=\"text-align: right;\">\n",
       "      <th></th>\n",
       "      <th>age</th>\n",
       "      <th>body_type</th>\n",
       "      <th>diet</th>\n",
       "      <th>drinks</th>\n",
       "      <th>drugs</th>\n",
       "      <th>education</th>\n",
       "      <th>myself_summary</th>\n",
       "      <th>typical_friday_night</th>\n",
       "      <th>message_me_if</th>\n",
       "      <th>ethnicity</th>\n",
       "      <th>height</th>\n",
       "      <th>income</th>\n",
       "      <th>job</th>\n",
       "      <th>last_online</th>\n",
       "      <th>location</th>\n",
       "      <th>offspring</th>\n",
       "      <th>orientation</th>\n",
       "      <th>pets</th>\n",
       "      <th>religion</th>\n",
       "      <th>sex</th>\n",
       "      <th>sign</th>\n",
       "      <th>smokes</th>\n",
       "      <th>speaks</th>\n",
       "      <th>status</th>\n",
       "      <th>height_cm</th>\n",
       "      <th>city</th>\n",
       "      <th>geolocation</th>\n",
       "      <th>likes_dogs</th>\n",
       "      <th>likes_cats</th>\n",
       "      <th>language</th>\n",
       "      <th>language_count</th>\n",
       "      <th>religion_clean</th>\n",
       "      <th>religion_remainder</th>\n",
       "      <th>sign_clean</th>\n",
       "      <th>sign_remainder</th>\n",
       "    </tr>\n",
       "  </thead>\n",
       "  <tbody>\n",
       "    <tr>\n",
       "      <th>0</th>\n",
       "      <td>22</td>\n",
       "      <td>a little extra</td>\n",
       "      <td>strictly anything</td>\n",
       "      <td>socially</td>\n",
       "      <td>never</td>\n",
       "      <td>working on college/university</td>\n",
       "      <td>about me:  i would love to think that i was so...</td>\n",
       "      <td>trying to find someone to hang out with. i am ...</td>\n",
       "      <td>you want to be swept off your feet! you are ti...</td>\n",
       "      <td>[asian, white]</td>\n",
       "      <td>75</td>\n",
       "      <td>-1</td>\n",
       "      <td>transportation</td>\n",
       "      <td>2012-06-28-20-30</td>\n",
       "      <td>south san francisco, california</td>\n",
       "      <td>doesn’t have kids, but might want them</td>\n",
       "      <td>straight</td>\n",
       "      <td>likes dogs and likes cats</td>\n",
       "      <td>agnosticism and very serious about it</td>\n",
       "      <td>m</td>\n",
       "      <td>gemini</td>\n",
       "      <td>sometimes</td>\n",
       "      <td>[english]</td>\n",
       "      <td>single</td>\n",
       "      <td>190.0</td>\n",
       "      <td>south san francisco, california</td>\n",
       "      <td>37.6549493,-122.40812509999999</td>\n",
       "      <td>1</td>\n",
       "      <td>1</td>\n",
       "      <td>[english]</td>\n",
       "      <td>1</td>\n",
       "      <td>agnosticism</td>\n",
       "      <td>very serious about it</td>\n",
       "      <td>gemini</td>\n",
       "      <td>None</td>\n",
       "    </tr>\n",
       "    <tr>\n",
       "      <th>1</th>\n",
       "      <td>35</td>\n",
       "      <td>average</td>\n",
       "      <td>mostly other</td>\n",
       "      <td>often</td>\n",
       "      <td>sometimes</td>\n",
       "      <td>working on space camp</td>\n",
       "      <td>i am a chef: this is what that means. 1. i am ...</td>\n",
       "      <td></td>\n",
       "      <td></td>\n",
       "      <td>[white]</td>\n",
       "      <td>70</td>\n",
       "      <td>80000</td>\n",
       "      <td>hospitality / travel</td>\n",
       "      <td>2012-06-29-21-41</td>\n",
       "      <td>oakland, california</td>\n",
       "      <td>doesn’t have kids, but might want them</td>\n",
       "      <td>straight</td>\n",
       "      <td>likes dogs and likes cats</td>\n",
       "      <td>agnosticism but not too serious about it</td>\n",
       "      <td>m</td>\n",
       "      <td>cancer</td>\n",
       "      <td>no</td>\n",
       "      <td>[english (fluently), spanish (poorly), french ...</td>\n",
       "      <td>single</td>\n",
       "      <td>178.0</td>\n",
       "      <td>oakland, california</td>\n",
       "      <td>37.804455700000005,-122.27135630000001</td>\n",
       "      <td>1</td>\n",
       "      <td>1</td>\n",
       "      <td>[english, spanish, french]</td>\n",
       "      <td>3</td>\n",
       "      <td>agnosticism</td>\n",
       "      <td>not too serious about it</td>\n",
       "      <td>cancer</td>\n",
       "      <td>None</td>\n",
       "    </tr>\n",
       "    <tr>\n",
       "      <th>2</th>\n",
       "      <td>38</td>\n",
       "      <td>thin</td>\n",
       "      <td>anything</td>\n",
       "      <td>socially</td>\n",
       "      <td></td>\n",
       "      <td>graduated from masters program</td>\n",
       "      <td>i'm not ashamed of much, but writing public te...</td>\n",
       "      <td>viewing. listening. dancing. talking. drinking...</td>\n",
       "      <td>you are bright, open, intense, silly, ironic, ...</td>\n",
       "      <td>[]</td>\n",
       "      <td>68</td>\n",
       "      <td>-1</td>\n",
       "      <td></td>\n",
       "      <td>2012-06-27-09-10</td>\n",
       "      <td>san francisco, california</td>\n",
       "      <td></td>\n",
       "      <td>straight</td>\n",
       "      <td>has cats</td>\n",
       "      <td></td>\n",
       "      <td>m</td>\n",
       "      <td>pisces but it doesn’t matter</td>\n",
       "      <td>no</td>\n",
       "      <td>[english, french, c++]</td>\n",
       "      <td>available</td>\n",
       "      <td>173.0</td>\n",
       "      <td>san francisco, california</td>\n",
       "      <td>37.779280799999995,-122.4192363</td>\n",
       "      <td>0</td>\n",
       "      <td>1</td>\n",
       "      <td>[english, french, c++]</td>\n",
       "      <td>3</td>\n",
       "      <td>NaN</td>\n",
       "      <td>None</td>\n",
       "      <td>pisces</td>\n",
       "      <td>it doesn’t matter</td>\n",
       "    </tr>\n",
       "    <tr>\n",
       "      <th>3</th>\n",
       "      <td>23</td>\n",
       "      <td>thin</td>\n",
       "      <td>vegetarian</td>\n",
       "      <td>socially</td>\n",
       "      <td></td>\n",
       "      <td>working on college/university</td>\n",
       "      <td>i work in a library and go to school. . .</td>\n",
       "      <td></td>\n",
       "      <td>you feel so inclined.</td>\n",
       "      <td>[white]</td>\n",
       "      <td>71</td>\n",
       "      <td>20000</td>\n",
       "      <td>student</td>\n",
       "      <td>2012-06-28-14-22</td>\n",
       "      <td>berkeley, california</td>\n",
       "      <td>doesn’t want kids</td>\n",
       "      <td>straight</td>\n",
       "      <td>likes cats</td>\n",
       "      <td></td>\n",
       "      <td>m</td>\n",
       "      <td>pisces</td>\n",
       "      <td>no</td>\n",
       "      <td>[english, german (poorly)]</td>\n",
       "      <td>single</td>\n",
       "      <td>180.0</td>\n",
       "      <td>berkeley, california</td>\n",
       "      <td>37.8708393,-122.27286389999999</td>\n",
       "      <td>0</td>\n",
       "      <td>1</td>\n",
       "      <td>[english, german]</td>\n",
       "      <td>2</td>\n",
       "      <td>NaN</td>\n",
       "      <td>None</td>\n",
       "      <td>pisces</td>\n",
       "      <td>None</td>\n",
       "    </tr>\n",
       "    <tr>\n",
       "      <th>4</th>\n",
       "      <td>29</td>\n",
       "      <td>athletic</td>\n",
       "      <td></td>\n",
       "      <td>socially</td>\n",
       "      <td>never</td>\n",
       "      <td>graduated from college/university</td>\n",
       "      <td>hey how's it going? currently vague on the pro...</td>\n",
       "      <td></td>\n",
       "      <td></td>\n",
       "      <td>[asian, black, other]</td>\n",
       "      <td>66</td>\n",
       "      <td>-1</td>\n",
       "      <td>artistic / musical / writer</td>\n",
       "      <td>2012-06-27-21-26</td>\n",
       "      <td>san francisco, california</td>\n",
       "      <td></td>\n",
       "      <td>straight</td>\n",
       "      <td>likes dogs and likes cats</td>\n",
       "      <td></td>\n",
       "      <td>m</td>\n",
       "      <td>aquarius</td>\n",
       "      <td>no</td>\n",
       "      <td>[english]</td>\n",
       "      <td>single</td>\n",
       "      <td>168.0</td>\n",
       "      <td>san francisco, california</td>\n",
       "      <td>37.779280799999995,-122.4192363</td>\n",
       "      <td>1</td>\n",
       "      <td>1</td>\n",
       "      <td>[english]</td>\n",
       "      <td>1</td>\n",
       "      <td>NaN</td>\n",
       "      <td>None</td>\n",
       "      <td>aquarius</td>\n",
       "      <td>None</td>\n",
       "    </tr>\n",
       "    <tr>\n",
       "      <th>...</th>\n",
       "      <td>...</td>\n",
       "      <td>...</td>\n",
       "      <td>...</td>\n",
       "      <td>...</td>\n",
       "      <td>...</td>\n",
       "      <td>...</td>\n",
       "      <td>...</td>\n",
       "      <td>...</td>\n",
       "      <td>...</td>\n",
       "      <td>...</td>\n",
       "      <td>...</td>\n",
       "      <td>...</td>\n",
       "      <td>...</td>\n",
       "      <td>...</td>\n",
       "      <td>...</td>\n",
       "      <td>...</td>\n",
       "      <td>...</td>\n",
       "      <td>...</td>\n",
       "      <td>...</td>\n",
       "      <td>...</td>\n",
       "      <td>...</td>\n",
       "      <td>...</td>\n",
       "      <td>...</td>\n",
       "      <td>...</td>\n",
       "      <td>...</td>\n",
       "      <td>...</td>\n",
       "      <td>...</td>\n",
       "      <td>...</td>\n",
       "      <td>...</td>\n",
       "      <td>...</td>\n",
       "      <td>...</td>\n",
       "      <td>...</td>\n",
       "      <td>...</td>\n",
       "      <td>...</td>\n",
       "      <td>...</td>\n",
       "    </tr>\n",
       "    <tr>\n",
       "      <th>9995</th>\n",
       "      <td>24</td>\n",
       "      <td>curvy</td>\n",
       "      <td>anything</td>\n",
       "      <td>socially</td>\n",
       "      <td>never</td>\n",
       "      <td>graduated from two-year college</td>\n",
       "      <td>hi my name is chantea and i am 23, i am a hair...</td>\n",
       "      <td>either home with my son or..... out parting...lol</td>\n",
       "      <td>ur not only about sex...cause im not...</td>\n",
       "      <td>[black]</td>\n",
       "      <td>66</td>\n",
       "      <td>20000</td>\n",
       "      <td>other</td>\n",
       "      <td>2012-01-16-23-10</td>\n",
       "      <td>burlingame, california</td>\n",
       "      <td>has a kid</td>\n",
       "      <td>straight</td>\n",
       "      <td>likes dogs and likes cats</td>\n",
       "      <td>christianity and very serious about it</td>\n",
       "      <td>f</td>\n",
       "      <td>libra but it doesn’t matter</td>\n",
       "      <td>when drinking</td>\n",
       "      <td>[english]</td>\n",
       "      <td>single</td>\n",
       "      <td>168.0</td>\n",
       "      <td>burlingame, california</td>\n",
       "      <td>37.5841026,-122.36608249999999</td>\n",
       "      <td>1</td>\n",
       "      <td>1</td>\n",
       "      <td>[english]</td>\n",
       "      <td>1</td>\n",
       "      <td>christianity</td>\n",
       "      <td>very serious about it</td>\n",
       "      <td>libra</td>\n",
       "      <td>it doesn’t matter</td>\n",
       "    </tr>\n",
       "    <tr>\n",
       "      <th>9996</th>\n",
       "      <td>24</td>\n",
       "      <td>skinny</td>\n",
       "      <td></td>\n",
       "      <td>socially</td>\n",
       "      <td>never</td>\n",
       "      <td>graduated from college/university</td>\n",
       "      <td>i came to the states when i was 17, and i fini...</td>\n",
       "      <td></td>\n",
       "      <td></td>\n",
       "      <td>[asian]</td>\n",
       "      <td>59</td>\n",
       "      <td>-1</td>\n",
       "      <td></td>\n",
       "      <td>2012-06-30-02-24</td>\n",
       "      <td>san francisco, california</td>\n",
       "      <td>doesn’t have kids</td>\n",
       "      <td>straight</td>\n",
       "      <td></td>\n",
       "      <td></td>\n",
       "      <td>f</td>\n",
       "      <td>virgo</td>\n",
       "      <td>no</td>\n",
       "      <td>[english, chinese]</td>\n",
       "      <td>single</td>\n",
       "      <td>150.0</td>\n",
       "      <td>san francisco, california</td>\n",
       "      <td>37.779280799999995,-122.4192363</td>\n",
       "      <td>0</td>\n",
       "      <td>0</td>\n",
       "      <td>[english, chinese]</td>\n",
       "      <td>2</td>\n",
       "      <td>NaN</td>\n",
       "      <td>None</td>\n",
       "      <td>virgo</td>\n",
       "      <td>None</td>\n",
       "    </tr>\n",
       "    <tr>\n",
       "      <th>9997</th>\n",
       "      <td>19</td>\n",
       "      <td>athletic</td>\n",
       "      <td></td>\n",
       "      <td>rarely</td>\n",
       "      <td>never</td>\n",
       "      <td></td>\n",
       "      <td>heey :) i am 19 and bi sexual . i have a lovin...</td>\n",
       "      <td></td>\n",
       "      <td>you are a down to earth girl , looking for som...</td>\n",
       "      <td>[pacific islander, white, other]</td>\n",
       "      <td>61</td>\n",
       "      <td>-1</td>\n",
       "      <td></td>\n",
       "      <td>2012-03-08-13-08</td>\n",
       "      <td>martinez, california</td>\n",
       "      <td></td>\n",
       "      <td>bisexual</td>\n",
       "      <td>has dogs and has cats</td>\n",
       "      <td></td>\n",
       "      <td>f</td>\n",
       "      <td>aquarius but it doesn’t matter</td>\n",
       "      <td>sometimes</td>\n",
       "      <td>[english]</td>\n",
       "      <td>seeing someone</td>\n",
       "      <td>155.0</td>\n",
       "      <td>martinez, california</td>\n",
       "      <td>38.0138934,-122.13386740000001</td>\n",
       "      <td>1</td>\n",
       "      <td>1</td>\n",
       "      <td>[english]</td>\n",
       "      <td>1</td>\n",
       "      <td>NaN</td>\n",
       "      <td>None</td>\n",
       "      <td>aquarius</td>\n",
       "      <td>it doesn’t matter</td>\n",
       "    </tr>\n",
       "    <tr>\n",
       "      <th>9998</th>\n",
       "      <td>47</td>\n",
       "      <td>a little extra</td>\n",
       "      <td></td>\n",
       "      <td>rarely</td>\n",
       "      <td>never</td>\n",
       "      <td></td>\n",
       "      <td>after giving this much thought i have finally ...</td>\n",
       "      <td>someone to go out with on occasion, instead of...</td>\n",
       "      <td>if you're into having fun. just taking life on...</td>\n",
       "      <td>[black]</td>\n",
       "      <td>64</td>\n",
       "      <td>50000</td>\n",
       "      <td>transportation</td>\n",
       "      <td>2012-06-30-06-12</td>\n",
       "      <td>emeryville, california</td>\n",
       "      <td></td>\n",
       "      <td>straight</td>\n",
       "      <td>likes dogs and likes cats</td>\n",
       "      <td>other</td>\n",
       "      <td>f</td>\n",
       "      <td>scorpio and it’s fun to think about</td>\n",
       "      <td>no</td>\n",
       "      <td>[english]</td>\n",
       "      <td>single</td>\n",
       "      <td>163.0</td>\n",
       "      <td>emeryville, california</td>\n",
       "      <td>37.8314089,-122.28652659999999</td>\n",
       "      <td>1</td>\n",
       "      <td>1</td>\n",
       "      <td>[english]</td>\n",
       "      <td>1</td>\n",
       "      <td>other</td>\n",
       "      <td>None</td>\n",
       "      <td>scorpio</td>\n",
       "      <td>it’s fun to think about</td>\n",
       "    </tr>\n",
       "    <tr>\n",
       "      <th>9999</th>\n",
       "      <td>29</td>\n",
       "      <td></td>\n",
       "      <td>mostly vegan</td>\n",
       "      <td>socially</td>\n",
       "      <td></td>\n",
       "      <td>graduated from college/university</td>\n",
       "      <td>loving life here in disco san francisco and ha...</td>\n",
       "      <td></td>\n",
       "      <td></td>\n",
       "      <td>[white]</td>\n",
       "      <td>68</td>\n",
       "      <td>-1</td>\n",
       "      <td>entertainment / media</td>\n",
       "      <td>2012-06-03-23-30</td>\n",
       "      <td>san francisco, california</td>\n",
       "      <td>doesn’t have kids, but might want them</td>\n",
       "      <td>straight</td>\n",
       "      <td></td>\n",
       "      <td></td>\n",
       "      <td>f</td>\n",
       "      <td>leo</td>\n",
       "      <td>no</td>\n",
       "      <td>[english, spanish]</td>\n",
       "      <td>single</td>\n",
       "      <td>173.0</td>\n",
       "      <td>san francisco, california</td>\n",
       "      <td>37.779280799999995,-122.4192363</td>\n",
       "      <td>0</td>\n",
       "      <td>0</td>\n",
       "      <td>[english, spanish]</td>\n",
       "      <td>2</td>\n",
       "      <td>NaN</td>\n",
       "      <td>None</td>\n",
       "      <td>leo</td>\n",
       "      <td>None</td>\n",
       "    </tr>\n",
       "  </tbody>\n",
       "</table>\n",
       "<p>10000 rows × 35 columns</p>\n",
       "</div>"
      ],
      "text/plain": [
       "      age       body_type               diet    drinks      drugs  \\\n",
       "0      22  a little extra  strictly anything  socially      never   \n",
       "1      35         average       mostly other     often  sometimes   \n",
       "2      38            thin           anything  socially              \n",
       "3      23            thin         vegetarian  socially              \n",
       "4      29        athletic                     socially      never   \n",
       "...   ...             ...                ...       ...        ...   \n",
       "9995   24           curvy           anything  socially      never   \n",
       "9996   24          skinny                     socially      never   \n",
       "9997   19        athletic                       rarely      never   \n",
       "9998   47  a little extra                       rarely      never   \n",
       "9999   29                       mostly vegan  socially              \n",
       "\n",
       "                              education  \\\n",
       "0         working on college/university   \n",
       "1                 working on space camp   \n",
       "2        graduated from masters program   \n",
       "3         working on college/university   \n",
       "4     graduated from college/university   \n",
       "...                                 ...   \n",
       "9995    graduated from two-year college   \n",
       "9996  graduated from college/university   \n",
       "9997                                      \n",
       "9998                                      \n",
       "9999  graduated from college/university   \n",
       "\n",
       "                                         myself_summary  \\\n",
       "0     about me:  i would love to think that i was so...   \n",
       "1     i am a chef: this is what that means. 1. i am ...   \n",
       "2     i'm not ashamed of much, but writing public te...   \n",
       "3             i work in a library and go to school. . .   \n",
       "4     hey how's it going? currently vague on the pro...   \n",
       "...                                                 ...   \n",
       "9995  hi my name is chantea and i am 23, i am a hair...   \n",
       "9996  i came to the states when i was 17, and i fini...   \n",
       "9997  heey :) i am 19 and bi sexual . i have a lovin...   \n",
       "9998  after giving this much thought i have finally ...   \n",
       "9999  loving life here in disco san francisco and ha...   \n",
       "\n",
       "                                   typical_friday_night  \\\n",
       "0     trying to find someone to hang out with. i am ...   \n",
       "1                                                         \n",
       "2     viewing. listening. dancing. talking. drinking...   \n",
       "3                                                         \n",
       "4                                                         \n",
       "...                                                 ...   \n",
       "9995  either home with my son or..... out parting...lol   \n",
       "9996                                                      \n",
       "9997                                                      \n",
       "9998  someone to go out with on occasion, instead of...   \n",
       "9999                                                      \n",
       "\n",
       "                                          message_me_if  \\\n",
       "0     you want to be swept off your feet! you are ti...   \n",
       "1                                                         \n",
       "2     you are bright, open, intense, silly, ironic, ...   \n",
       "3                                 you feel so inclined.   \n",
       "4                                                         \n",
       "...                                                 ...   \n",
       "9995            ur not only about sex...cause im not...   \n",
       "9996                                                      \n",
       "9997  you are a down to earth girl , looking for som...   \n",
       "9998  if you're into having fun. just taking life on...   \n",
       "9999                                                      \n",
       "\n",
       "                             ethnicity  height  income  \\\n",
       "0                       [asian, white]      75      -1   \n",
       "1                              [white]      70   80000   \n",
       "2                                   []      68      -1   \n",
       "3                              [white]      71   20000   \n",
       "4                [asian, black, other]      66      -1   \n",
       "...                                ...     ...     ...   \n",
       "9995                           [black]      66   20000   \n",
       "9996                           [asian]      59      -1   \n",
       "9997  [pacific islander, white, other]      61      -1   \n",
       "9998                           [black]      64   50000   \n",
       "9999                           [white]      68      -1   \n",
       "\n",
       "                              job       last_online  \\\n",
       "0                  transportation  2012-06-28-20-30   \n",
       "1            hospitality / travel  2012-06-29-21-41   \n",
       "2                                  2012-06-27-09-10   \n",
       "3                         student  2012-06-28-14-22   \n",
       "4     artistic / musical / writer  2012-06-27-21-26   \n",
       "...                           ...               ...   \n",
       "9995                        other  2012-01-16-23-10   \n",
       "9996                               2012-06-30-02-24   \n",
       "9997                               2012-03-08-13-08   \n",
       "9998               transportation  2012-06-30-06-12   \n",
       "9999        entertainment / media  2012-06-03-23-30   \n",
       "\n",
       "                             location                               offspring  \\\n",
       "0     south san francisco, california  doesn’t have kids, but might want them   \n",
       "1                 oakland, california  doesn’t have kids, but might want them   \n",
       "2           san francisco, california                                           \n",
       "3                berkeley, california                       doesn’t want kids   \n",
       "4           san francisco, california                                           \n",
       "...                               ...                                     ...   \n",
       "9995           burlingame, california                               has a kid   \n",
       "9996        san francisco, california                       doesn’t have kids   \n",
       "9997             martinez, california                                           \n",
       "9998           emeryville, california                                           \n",
       "9999        san francisco, california  doesn’t have kids, but might want them   \n",
       "\n",
       "     orientation                       pets  \\\n",
       "0       straight  likes dogs and likes cats   \n",
       "1       straight  likes dogs and likes cats   \n",
       "2       straight                   has cats   \n",
       "3       straight                 likes cats   \n",
       "4       straight  likes dogs and likes cats   \n",
       "...          ...                        ...   \n",
       "9995    straight  likes dogs and likes cats   \n",
       "9996    straight                              \n",
       "9997    bisexual      has dogs and has cats   \n",
       "9998    straight  likes dogs and likes cats   \n",
       "9999    straight                              \n",
       "\n",
       "                                      religion sex  \\\n",
       "0        agnosticism and very serious about it   m   \n",
       "1     agnosticism but not too serious about it   m   \n",
       "2                                                m   \n",
       "3                                                m   \n",
       "4                                                m   \n",
       "...                                        ...  ..   \n",
       "9995    christianity and very serious about it   f   \n",
       "9996                                             f   \n",
       "9997                                             f   \n",
       "9998                                     other   f   \n",
       "9999                                             f   \n",
       "\n",
       "                                     sign         smokes  \\\n",
       "0                                  gemini      sometimes   \n",
       "1                                  cancer             no   \n",
       "2            pisces but it doesn’t matter             no   \n",
       "3                                  pisces             no   \n",
       "4                                aquarius             no   \n",
       "...                                   ...            ...   \n",
       "9995          libra but it doesn’t matter  when drinking   \n",
       "9996                                virgo             no   \n",
       "9997       aquarius but it doesn’t matter      sometimes   \n",
       "9998  scorpio and it’s fun to think about             no   \n",
       "9999                                  leo             no   \n",
       "\n",
       "                                                 speaks          status  \\\n",
       "0                                             [english]          single   \n",
       "1     [english (fluently), spanish (poorly), french ...          single   \n",
       "2                                [english, french, c++]       available   \n",
       "3                            [english, german (poorly)]          single   \n",
       "4                                             [english]          single   \n",
       "...                                                 ...             ...   \n",
       "9995                                          [english]          single   \n",
       "9996                                 [english, chinese]          single   \n",
       "9997                                          [english]  seeing someone   \n",
       "9998                                          [english]          single   \n",
       "9999                                 [english, spanish]          single   \n",
       "\n",
       "      height_cm                             city  \\\n",
       "0         190.0  south san francisco, california   \n",
       "1         178.0              oakland, california   \n",
       "2         173.0        san francisco, california   \n",
       "3         180.0             berkeley, california   \n",
       "4         168.0        san francisco, california   \n",
       "...         ...                              ...   \n",
       "9995      168.0           burlingame, california   \n",
       "9996      150.0        san francisco, california   \n",
       "9997      155.0             martinez, california   \n",
       "9998      163.0           emeryville, california   \n",
       "9999      173.0        san francisco, california   \n",
       "\n",
       "                                 geolocation  likes_dogs  likes_cats  \\\n",
       "0             37.6549493,-122.40812509999999           1           1   \n",
       "1     37.804455700000005,-122.27135630000001           1           1   \n",
       "2            37.779280799999995,-122.4192363           0           1   \n",
       "3             37.8708393,-122.27286389999999           0           1   \n",
       "4            37.779280799999995,-122.4192363           1           1   \n",
       "...                                      ...         ...         ...   \n",
       "9995          37.5841026,-122.36608249999999           1           1   \n",
       "9996         37.779280799999995,-122.4192363           0           0   \n",
       "9997          38.0138934,-122.13386740000001           1           1   \n",
       "9998          37.8314089,-122.28652659999999           1           1   \n",
       "9999         37.779280799999995,-122.4192363           0           0   \n",
       "\n",
       "                        language  language_count religion_clean  \\\n",
       "0                      [english]               1    agnosticism   \n",
       "1     [english, spanish, french]               3    agnosticism   \n",
       "2         [english, french, c++]               3            NaN   \n",
       "3              [english, german]               2            NaN   \n",
       "4                      [english]               1            NaN   \n",
       "...                          ...             ...            ...   \n",
       "9995                   [english]               1   christianity   \n",
       "9996          [english, chinese]               2            NaN   \n",
       "9997                   [english]               1            NaN   \n",
       "9998                   [english]               1          other   \n",
       "9999          [english, spanish]               2            NaN   \n",
       "\n",
       "             religion_remainder sign_clean            sign_remainder  \n",
       "0         very serious about it     gemini                      None  \n",
       "1      not too serious about it     cancer                      None  \n",
       "2                          None     pisces         it doesn’t matter  \n",
       "3                          None     pisces                      None  \n",
       "4                          None   aquarius                      None  \n",
       "...                         ...        ...                       ...  \n",
       "9995      very serious about it      libra         it doesn’t matter  \n",
       "9996                       None      virgo                      None  \n",
       "9997                       None   aquarius         it doesn’t matter  \n",
       "9998                       None    scorpio   it’s fun to think about  \n",
       "9999                       None        leo                      None  \n",
       "\n",
       "[10000 rows x 35 columns]"
      ]
     },
     "execution_count": 26,
     "metadata": {},
     "output_type": "execute_result"
    }
   ],
   "source": [
    "okc"
   ]
  },
  {
   "cell_type": "markdown",
   "metadata": {},
   "source": [
    "Allright, we should be all set now to start our analysis.\n",
    "So let's deep dive into NLPeasy:"
   ]
  },
  {
   "cell_type": "markdown",
   "metadata": {},
   "source": [
    "## NLPeasy Pipeline"
   ]
  },
  {
   "cell_type": "markdown",
   "metadata": {},
   "source": [
    "First step is to construct pipeline object:"
   ]
  },
  {
   "cell_type": "code",
   "execution_count": 27,
   "metadata": {},
   "outputs": [],
   "source": [
    "pipeline = ne.Pipeline(index='okc',\n",
    "                       text_cols=['myself_summary', 'typical_friday_night', 'message_me_if'],\n",
    "                       num_cols = ['age', 'height_cm', 'income', 'language_count'],\n",
    "                       tag_cols=['body_type', 'diet', 'drinks', 'drugs', 'education', 'ethnicity', 'pets',\n",
    "                                 'religion', 'sex', 'sign', 'smokes', 'speaks', 'status', 'religion_clean',\n",
    "                                'sign_clean', 'language', 'likes_cats', 'likes_dogs'],\n",
    "                       geopoint_cols = ['geolocation'], \n",
    "                       elk=elk)"
   ]
  },
  {
   "cell_type": "markdown",
   "metadata": {},
   "source": [
    "The parameters here mean the following:\n",
    "* `index` will be the name of the Elasticsearch index (something like a Database name).\n",
    "* `textCols` here you can specify which columns of the dataframe are textual.\n",
    "* `numCols` will be used for histograms in Kibana.\n",
    "* `tagCols` will be used for barplots in Kibana.\n",
    "* `geoPointCols` can be used to draw maps in Kibana.\n",
    "* `elk` is the Elastic stack we connected to above."
   ]
  },
  {
   "cell_type": "markdown",
   "metadata": {},
   "source": [
    "Now let's add stages in the pipeline!"
   ]
  },
  {
   "cell_type": "markdown",
   "metadata": {},
   "source": [
    "NLPeasy pipelines can have as few or as many stages as you wish. Here we just use the following:\n",
    "* `VaderSentiment` is a nice rule-based sentiment prediction for english.\n",
    "* `Spacy` uses the `spacy` package together with it's language model - here english small (=sm) or medium (=md).\n",
    "    We use it for a couple of enrichments, as you will see below.\n",
    "\n",
    "There are more stages in NLPeasy you can use (e.g. RegexTag Extraction, Splitting) or you can define your own functions there."
   ]
  },
  {
   "cell_type": "markdown",
   "metadata": {},
   "source": [
    "First the pipeline should calculate sentiments to all of the text columns. The first parameter specifies for which column, the second one stipulates the name of the output column:"
   ]
  },
  {
   "cell_type": "code",
   "execution_count": 28,
   "metadata": {},
   "outputs": [],
   "source": [
    "pipeline += ne.VaderSentiment('myself_summary', 'myself_summary_sentiment')\n",
    "pipeline += ne.VaderSentiment('typical_friday_night', 'typical_friday_night_sentiment')\n",
    "pipeline += ne.VaderSentiment('message_me_if', 'message_me_if_messageme')"
   ]
  },
  {
   "cell_type": "markdown",
   "metadata": {},
   "source": [
    "Now we will add NLPeasy's spaCy enrichemnt."
   ]
  },
  {
   "cell_type": "markdown",
   "metadata": {},
   "source": [
    "For small environments (like on binder) do it just for one column. Also we then only use the small model which does not provide vectors."
   ]
  },
  {
   "cell_type": "code",
   "execution_count": 29,
   "metadata": {},
   "outputs": [
    {
     "data": {
      "text/plain": [
       "\"spacy_model=en_core_web_md use_spacy_vecs=True spacy_cols=['myself_summary', 'typical_friday_night', 'message_me_if']\""
      ]
     },
     "execution_count": 29,
     "metadata": {},
     "output_type": "execute_result"
    }
   ],
   "source": [
    "spacy_cols = spacy_cols or ['myself_summary', 'typical_friday_night', 'message_me_if']\n",
    "use_spacy_vecs = not spacy_model.endswith('_sm')\n",
    "\"spacy_model={} use_spacy_vecs={} spacy_cols={}\".format(spacy_model, use_spacy_vecs,spacy_cols)"
   ]
  },
  {
   "cell_type": "markdown",
   "metadata": {},
   "source": [
    "The spacy model takes ~30 secs to load:"
   ]
  },
  {
   "cell_type": "code",
   "execution_count": 30,
   "metadata": {},
   "outputs": [],
   "source": [
    "pipeline += ne.SpacyEnrichment(nlp=spacy_model,\n",
    "                               cols=spacy_cols,\n",
    "                               vec=use_spacy_vecs)"
   ]
  },
  {
   "cell_type": "markdown",
   "metadata": {},
   "source": [
    "###### Run the pipeline - Spacy needs some time to process, so these ~60000 messages take about 100 minutes to process."
   ]
  },
  {
   "cell_type": "markdown",
   "metadata": {},
   "source": [
    "We do this for a subset of the data as it will take too long otherwise."
   ]
  },
  {
   "cell_type": "code",
   "execution_count": 31,
   "metadata": {},
   "outputs": [
    {
     "name": "stdout",
     "output_type": "stream",
     "text": [
      "100/100 [==============================] - 4s 43ms/step\n"
     ]
    }
   ],
   "source": [
    "okc_enriched = pipeline.process(okc.head(100), write_elastic=True, batchsize=20)"
   ]
  },
  {
   "cell_type": "markdown",
   "metadata": {},
   "source": [
    "Create Kibana Dashboard of all the columns"
   ]
  },
  {
   "cell_type": "code",
   "execution_count": 32,
   "metadata": {},
   "outputs": [
    {
     "name": "stdout",
     "output_type": "stream",
     "text": [
      "Trying to do a histogram on str values: 20 - 46\n",
      "Trying to do a histogram on str values: 152.0 - 198.0\n",
      "Trying to do a histogram on str values: -1 - 1000000\n",
      "Trying to do a histogram on str values: 1 - 5\n",
      "Trying to do a histogram on str values: -0.5574 - 0.9995\n",
      "Trying to do a histogram on str values: -0.4767 - 0.9844\n",
      "Trying to do a histogram on str values: -0.8944 - 0.9992\n",
      "okc: adding index-pattern\n",
      "okc: setting default index-pattern\n",
      "okc: adding search\n",
      "okc: adding visualisation for body_type\n",
      "okc: adding visualisation for diet\n",
      "okc: adding visualisation for drinks\n",
      "okc: adding visualisation for drugs\n",
      "okc: adding visualisation for education\n",
      "okc: adding visualisation for ethnicity\n",
      "okc: adding visualisation for pets\n",
      "okc: adding visualisation for religion\n",
      "okc: adding visualisation for sex\n",
      "okc: adding visualisation for sign\n",
      "okc: adding visualisation for smokes\n",
      "okc: adding visualisation for speaks\n",
      "okc: adding visualisation for status\n",
      "okc: adding visualisation for religion_clean\n",
      "okc: adding visualisation for sign_clean\n",
      "okc: adding visualisation for language\n",
      "okc: adding visualisation for likes_cats\n",
      "okc: adding visualisation for likes_dogs\n",
      "okc: adding visualisation for myself_summary_ents\n",
      "okc: adding visualisation for myself_summary_subj\n",
      "okc: adding visualisation for myself_summary_verb\n",
      "okc: adding visualisation for typical_friday_night_ents\n",
      "okc: adding visualisation for typical_friday_night_subj\n",
      "okc: adding visualisation for typical_friday_night_verb\n",
      "okc: adding visualisation for message_me_if_ents\n",
      "okc: adding visualisation for message_me_if_subj\n",
      "okc: adding visualisation for message_me_if_verb\n",
      "okc: adding visualisation for myself_summary\n",
      "okc: adding visualisation for typical_friday_night\n",
      "okc: adding visualisation for message_me_if\n",
      "okc: adding visualisation for age\n",
      "okc: adding visualisation for height_cm\n",
      "okc: adding visualisation for income\n",
      "okc: adding visualisation for language_count\n",
      "okc: adding visualisation for myself_summary_sentiment\n",
      "okc: adding visualisation for typical_friday_night_sentiment\n",
      "okc: adding visualisation for message_me_if_messageme\n",
      "okc: adding dashboard\n",
      "okc: setting time defaults\n"
     ]
    }
   ],
   "source": [
    "pipeline.create_kibana_dashboard()"
   ]
  },
  {
   "cell_type": "markdown",
   "metadata": {},
   "source": [
    "Open Kibana in webbrowser"
   ]
  },
  {
   "cell_type": "code",
   "execution_count": 33,
   "metadata": {},
   "outputs": [
    {
     "data": {
      "text/html": [
       "Kibana on <a href='http://localhost:5601'>http://localhost:5601</a>"
      ],
      "text/plain": [
       "Kibana on http://localhost:5601"
      ]
     },
     "execution_count": 33,
     "metadata": {},
     "output_type": "execute_result"
    }
   ],
   "source": [
    "util.display_kibana_link() if util.BINDER else elk.kibana"
   ]
  },
  {
   "cell_type": "markdown",
   "metadata": {},
   "source": [
    "Oh, and you wonder what took so long in the upload?"
   ]
  },
  {
   "cell_type": "code",
   "execution_count": 34,
   "metadata": {},
   "outputs": [
    {
     "name": "stdout",
     "output_type": "stream",
     "text": [
      "Warning: stack is not empty but has 66 items\n",
      "global / process: 0.0us\n",
      "Stage 1 / VaderSentiment: 221ms\n",
      "Stage 2 / VaderSentiment: 21ms\n",
      "Stage 3 / VaderSentiment: 76ms\n",
      "Stage 4 / SpacyEnrichment: 0.0us\n",
      "SpacyEnrichment / spacy make iter: 148.0us\n",
      "SpacyEnrichment / spacy iter: 1.9s\n",
      "SpacyEnrichment / process spacy docs: 854ms\n",
      "elastic / upload: 1.4s\n",
      "global / concat results: 31ms\n",
      "global / min_max_calc: 2.9ms\n"
     ]
    }
   ],
   "source": [
    "pipeline._tictoc.summary()"
   ]
  },
  {
   "cell_type": "markdown",
   "metadata": {},
   "source": [
    "## Shutdown"
   ]
  },
  {
   "cell_type": "markdown",
   "metadata": {},
   "source": [
    "Save the data"
   ]
  },
  {
   "cell_type": "code",
   "execution_count": 35,
   "metadata": {},
   "outputs": [],
   "source": [
    "filename = 'okc_enriched_demo.pickle'\n",
    "okc_enriched.to_pickle(filename)"
   ]
  },
  {
   "cell_type": "markdown",
   "metadata": {},
   "source": [
    "If elastic was started on Docker and you want to shutdown the servers, issue:"
   ]
  },
  {
   "cell_type": "raw",
   "metadata": {},
   "source": [
    "ne.docker.stop_elastic_on_docker(\"nlp\")"
   ]
  },
  {
   "cell_type": "markdown",
   "metadata": {},
   "source": [
    "> *Warning*: If you didn't use a mountVolumePrefix when you started the servers, all the data in elastic and kibana will be lost!"
   ]
  },
  {
   "cell_type": "code",
   "execution_count": null,
   "metadata": {},
   "outputs": [],
   "source": []
  }
 ],
 "metadata": {
  "kernelspec": {
   "display_name": "Python 3",
   "language": "python",
   "name": "python3"
  },
  "language_info": {
   "codemirror_mode": {
    "name": "ipython",
    "version": 3
   },
   "file_extension": ".py",
   "mimetype": "text/x-python",
   "name": "python",
   "nbconvert_exporter": "python",
   "pygments_lexer": "ipython3",
   "version": "3.9.1"
  }
 },
 "nbformat": 4,
 "nbformat_minor": 4
}
