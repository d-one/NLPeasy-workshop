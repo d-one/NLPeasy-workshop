{
 "cells": [
  {
   "cell_type": "markdown",
   "metadata": {},
   "source": [
    "# NLPeasy Workshop - Introduction\n",
    "# SDS 2020, 25th of June 2020"
   ]
  },
  {
   "cell_type": "markdown",
   "metadata": {},
   "source": [
    "In this demo you will use NLPEasy to quickly setup a Pandas-based pipeline. The results will then be saved in Elasticsearch and a Kibana dashboard is generated automatically to explore the texts and results."
   ]
  },
  {
   "cell_type": "markdown",
   "metadata": {},
   "source": [
    "For the workshop you have 2 possibilities to participate:\n",
    "- **mybinder.org:** No setup needed, only a webbrowser, however only 1-2 GB RAM are available\n",
    "- **own laptop:** You need to install the python environment and either Docker or Elasticsearch+Kibana"
   ]
  },
  {
   "cell_type": "markdown",
   "metadata": {},
   "source": [
    "This is why we have to variants of the executen, a small one for binder and a bigger one to use on your laptop:"
   ]
  },
  {
   "cell_type": "code",
   "execution_count": 1,
   "metadata": {},
   "outputs": [],
   "source": [
    "import os\n",
    "DOIT_SMALL = 'BINDER_PORT' in os.environ"
   ]
  },
  {
   "cell_type": "markdown",
   "metadata": {},
   "source": [
    "You can overwrite the BINDER-setting if you need to or want to trye"
   ]
  },
  {
   "cell_type": "code",
   "execution_count": 2,
   "metadata": {},
   "outputs": [
    {
     "data": {
      "text/plain": [
       "'DOIT_SMALL: False'"
      ]
     },
     "execution_count": 2,
     "metadata": {},
     "output_type": "execute_result"
    }
   ],
   "source": [
    "# We are on bigger machines for the workshop:\n",
    "DOIT_SMALL = False\n",
    "\"DOIT_SMALL: {}\".format(DOIT_SMALL)"
   ]
  },
  {
   "cell_type": "code",
   "execution_count": 3,
   "metadata": {},
   "outputs": [
    {
     "data": {
      "text/plain": [
       "'nrows_to_load: 10000 spacy_model: en_core_web_md spacy_cols: None'"
      ]
     },
     "execution_count": 3,
     "metadata": {},
     "output_type": "execute_result"
    }
   ],
   "source": [
    "if DOIT_SMALL:\n",
    "    nrows_to_load, spacy_model, spacy_cols = 1000, 'en_core_web_sm', ['myself_summary']\n",
    "else:\n",
    "    nrows_to_load, spacy_model, spacy_cols = 10000, 'en_core_web_md', None\n",
    "\"nrows_to_load: {} spacy_model: {} spacy_cols: {}\".format(nrows_to_load, spacy_model, spacy_cols)"
   ]
  },
  {
   "cell_type": "markdown",
   "metadata": {},
   "source": [
    "## Imports"
   ]
  },
  {
   "cell_type": "markdown",
   "metadata": {},
   "source": [
    "We will analyse today a dataset using NLPeasy package. We will also need pandas and numpy."
   ]
  },
  {
   "cell_type": "code",
   "execution_count": 4,
   "metadata": {},
   "outputs": [],
   "source": [
    "import pandas as pd\n",
    "import numpy as np\n",
    "import nlpeasy as ne\n",
    "import util"
   ]
  },
  {
   "cell_type": "markdown",
   "metadata": {},
   "source": [
    "`util` is part of the workshop repository and helps with accessing the Kibana dashboard on binder."
   ]
  },
  {
   "cell_type": "markdown",
   "metadata": {},
   "source": [
    "## Connect to Elastic Stack"
   ]
  },
  {
   "cell_type": "markdown",
   "metadata": {},
   "source": [
    "Connect to running elastic instance on your local machine. If this can't be found, it will start an Open Source stack on your docker.\n",
    "\n",
    "By specifying mount_volume_prefix your Elastic data is saved."
   ]
  },
  {
   "cell_type": "code",
   "execution_count": 5,
   "metadata": {},
   "outputs": [
    {
     "data": {
      "text/plain": [
       "'Elasticsearch already running'"
      ]
     },
     "metadata": {},
     "output_type": "display_data"
    },
    {
     "data": {
      "text/html": [
       "ElasticSearch on <a href='http://localhost:9200'>http://localhost:9200</a> <br> Kibana on <a href='http://localhost:5601'>http://localhost:5601</a>"
      ],
      "text/plain": [
       "ElasticSearch on http://localhost:9200\n",
       "Kibana on http://localhost:5601"
      ]
     },
     "metadata": {},
     "output_type": "display_data"
    }
   ],
   "source": [
    "elk = ne.connect_elastic(elk_version='7.10.2',\n",
    "                         mount_volume_prefix='./elastic-data-live/')"
   ]
  },
  {
   "cell_type": "markdown",
   "metadata": {},
   "source": [
    "> If it is started on docker it will on the first time pull the images (1.3GB)!\n",
    "BTW, this function is not blocking, i.e. the servers might only be active couple of seconds later.\n",
    "Setting mountVolumePrefix=\"./elastic-data/\" would keep the data of elastic in your\n",
    "filesystems and then the data survives container restarts"
   ]
  },
  {
   "cell_type": "markdown",
   "metadata": {},
   "source": [
    "On binder you do not have access to it's localhost. However set up some binder-jupyter magic so you can access it:"
   ]
  },
  {
   "cell_type": "code",
   "execution_count": 6,
   "metadata": {},
   "outputs": [],
   "source": [
    "if util.BINDER:\n",
    "   util.display_kibana_link()"
   ]
  },
  {
   "cell_type": "markdown",
   "metadata": {},
   "source": [
    "## Read and Process Data"
   ]
  },
  {
   "cell_type": "markdown",
   "metadata": {},
   "source": [
    "We use 'OK Cupid' dataset in this workshop (the anonymized legal version of it).\n",
    "Let's load the data and see what we have here."
   ]
  },
  {
   "cell_type": "code",
   "execution_count": 7,
   "metadata": {},
   "outputs": [
    {
     "name": "stdout",
     "output_type": "stream",
     "text": [
      "Getting data from profiles.csv.zip\n"
     ]
    },
    {
     "data": {
      "text/html": [
       "<div>\n",
       "<style scoped>\n",
       "    .dataframe tbody tr th:only-of-type {\n",
       "        vertical-align: middle;\n",
       "    }\n",
       "\n",
       "    .dataframe tbody tr th {\n",
       "        vertical-align: top;\n",
       "    }\n",
       "\n",
       "    .dataframe thead th {\n",
       "        text-align: right;\n",
       "    }\n",
       "</style>\n",
       "<table border=\"1\" class=\"dataframe\">\n",
       "  <thead>\n",
       "    <tr style=\"text-align: right;\">\n",
       "      <th></th>\n",
       "      <th>age</th>\n",
       "      <th>body_type</th>\n",
       "      <th>diet</th>\n",
       "      <th>drinks</th>\n",
       "      <th>drugs</th>\n",
       "      <th>education</th>\n",
       "      <th>essay0</th>\n",
       "      <th>essay1</th>\n",
       "      <th>essay2</th>\n",
       "      <th>essay3</th>\n",
       "      <th>...</th>\n",
       "      <th>location</th>\n",
       "      <th>offspring</th>\n",
       "      <th>orientation</th>\n",
       "      <th>pets</th>\n",
       "      <th>religion</th>\n",
       "      <th>sex</th>\n",
       "      <th>sign</th>\n",
       "      <th>smokes</th>\n",
       "      <th>speaks</th>\n",
       "      <th>status</th>\n",
       "    </tr>\n",
       "  </thead>\n",
       "  <tbody>\n",
       "    <tr>\n",
       "      <th>0</th>\n",
       "      <td>22</td>\n",
       "      <td>a little extra</td>\n",
       "      <td>strictly anything</td>\n",
       "      <td>socially</td>\n",
       "      <td>never</td>\n",
       "      <td>working on college/university</td>\n",
       "      <td>about me:&lt;br /&gt;\\n&lt;br /&gt;\\ni would love to think...</td>\n",
       "      <td>currently working as an international agent fo...</td>\n",
       "      <td>making people laugh.&lt;br /&gt;\\nranting about a go...</td>\n",
       "      <td>the way i look. i am a six foot half asian, ha...</td>\n",
       "      <td>...</td>\n",
       "      <td>south san francisco, california</td>\n",
       "      <td>doesn&amp;rsquo;t have kids, but might want them</td>\n",
       "      <td>straight</td>\n",
       "      <td>likes dogs and likes cats</td>\n",
       "      <td>agnosticism and very serious about it</td>\n",
       "      <td>m</td>\n",
       "      <td>gemini</td>\n",
       "      <td>sometimes</td>\n",
       "      <td>english</td>\n",
       "      <td>single</td>\n",
       "    </tr>\n",
       "    <tr>\n",
       "      <th>1</th>\n",
       "      <td>35</td>\n",
       "      <td>average</td>\n",
       "      <td>mostly other</td>\n",
       "      <td>often</td>\n",
       "      <td>sometimes</td>\n",
       "      <td>working on space camp</td>\n",
       "      <td>i am a chef: this is what that means.&lt;br /&gt;\\n1...</td>\n",
       "      <td>dedicating everyday to being an unbelievable b...</td>\n",
       "      <td>being silly. having ridiculous amonts of fun w...</td>\n",
       "      <td>NaN</td>\n",
       "      <td>...</td>\n",
       "      <td>oakland, california</td>\n",
       "      <td>doesn&amp;rsquo;t have kids, but might want them</td>\n",
       "      <td>straight</td>\n",
       "      <td>likes dogs and likes cats</td>\n",
       "      <td>agnosticism but not too serious about it</td>\n",
       "      <td>m</td>\n",
       "      <td>cancer</td>\n",
       "      <td>no</td>\n",
       "      <td>english (fluently), spanish (poorly), french (...</td>\n",
       "      <td>single</td>\n",
       "    </tr>\n",
       "    <tr>\n",
       "      <th>2</th>\n",
       "      <td>38</td>\n",
       "      <td>thin</td>\n",
       "      <td>anything</td>\n",
       "      <td>socially</td>\n",
       "      <td>NaN</td>\n",
       "      <td>graduated from masters program</td>\n",
       "      <td>i'm not ashamed of much, but writing public te...</td>\n",
       "      <td>i make nerdy software for musicians, artists, ...</td>\n",
       "      <td>improvising in different contexts. alternating...</td>\n",
       "      <td>my large jaw and large glasses are the physica...</td>\n",
       "      <td>...</td>\n",
       "      <td>san francisco, california</td>\n",
       "      <td>NaN</td>\n",
       "      <td>straight</td>\n",
       "      <td>has cats</td>\n",
       "      <td>NaN</td>\n",
       "      <td>m</td>\n",
       "      <td>pisces but it doesn&amp;rsquo;t matter</td>\n",
       "      <td>no</td>\n",
       "      <td>english, french, c++</td>\n",
       "      <td>available</td>\n",
       "    </tr>\n",
       "    <tr>\n",
       "      <th>3</th>\n",
       "      <td>23</td>\n",
       "      <td>thin</td>\n",
       "      <td>vegetarian</td>\n",
       "      <td>socially</td>\n",
       "      <td>NaN</td>\n",
       "      <td>working on college/university</td>\n",
       "      <td>i work in a library and go to school. . .</td>\n",
       "      <td>reading things written by old dead people</td>\n",
       "      <td>playing synthesizers and organizing books acco...</td>\n",
       "      <td>socially awkward but i do my best</td>\n",
       "      <td>...</td>\n",
       "      <td>berkeley, california</td>\n",
       "      <td>doesn&amp;rsquo;t want kids</td>\n",
       "      <td>straight</td>\n",
       "      <td>likes cats</td>\n",
       "      <td>NaN</td>\n",
       "      <td>m</td>\n",
       "      <td>pisces</td>\n",
       "      <td>no</td>\n",
       "      <td>english, german (poorly)</td>\n",
       "      <td>single</td>\n",
       "    </tr>\n",
       "    <tr>\n",
       "      <th>4</th>\n",
       "      <td>29</td>\n",
       "      <td>athletic</td>\n",
       "      <td>NaN</td>\n",
       "      <td>socially</td>\n",
       "      <td>never</td>\n",
       "      <td>graduated from college/university</td>\n",
       "      <td>hey how's it going? currently vague on the pro...</td>\n",
       "      <td>work work work work + play</td>\n",
       "      <td>creating imagery to look at:&lt;br /&gt;\\nhttp://bag...</td>\n",
       "      <td>i smile a lot and my inquisitive nature</td>\n",
       "      <td>...</td>\n",
       "      <td>san francisco, california</td>\n",
       "      <td>NaN</td>\n",
       "      <td>straight</td>\n",
       "      <td>likes dogs and likes cats</td>\n",
       "      <td>NaN</td>\n",
       "      <td>m</td>\n",
       "      <td>aquarius</td>\n",
       "      <td>no</td>\n",
       "      <td>english</td>\n",
       "      <td>single</td>\n",
       "    </tr>\n",
       "    <tr>\n",
       "      <th>...</th>\n",
       "      <td>...</td>\n",
       "      <td>...</td>\n",
       "      <td>...</td>\n",
       "      <td>...</td>\n",
       "      <td>...</td>\n",
       "      <td>...</td>\n",
       "      <td>...</td>\n",
       "      <td>...</td>\n",
       "      <td>...</td>\n",
       "      <td>...</td>\n",
       "      <td>...</td>\n",
       "      <td>...</td>\n",
       "      <td>...</td>\n",
       "      <td>...</td>\n",
       "      <td>...</td>\n",
       "      <td>...</td>\n",
       "      <td>...</td>\n",
       "      <td>...</td>\n",
       "      <td>...</td>\n",
       "      <td>...</td>\n",
       "      <td>...</td>\n",
       "    </tr>\n",
       "    <tr>\n",
       "      <th>9995</th>\n",
       "      <td>24</td>\n",
       "      <td>curvy</td>\n",
       "      <td>anything</td>\n",
       "      <td>socially</td>\n",
       "      <td>never</td>\n",
       "      <td>graduated from two-year college</td>\n",
       "      <td>hi my name is chantea and i am 23, i am a hair...</td>\n",
       "      <td>right now i work full time at a hair salon and...</td>\n",
       "      <td>playing basketball... well lets say i use to.....</td>\n",
       "      <td>my hair lol</td>\n",
       "      <td>...</td>\n",
       "      <td>burlingame, california</td>\n",
       "      <td>has a kid</td>\n",
       "      <td>straight</td>\n",
       "      <td>likes dogs and likes cats</td>\n",
       "      <td>christianity and very serious about it</td>\n",
       "      <td>f</td>\n",
       "      <td>libra but it doesn&amp;rsquo;t matter</td>\n",
       "      <td>when drinking</td>\n",
       "      <td>english</td>\n",
       "      <td>single</td>\n",
       "    </tr>\n",
       "    <tr>\n",
       "      <th>9996</th>\n",
       "      <td>24</td>\n",
       "      <td>skinny</td>\n",
       "      <td>NaN</td>\n",
       "      <td>socially</td>\n",
       "      <td>never</td>\n",
       "      <td>graduated from college/university</td>\n",
       "      <td>i came to the states when i was 17, and i fini...</td>\n",
       "      <td>NaN</td>\n",
       "      <td>NaN</td>\n",
       "      <td>NaN</td>\n",
       "      <td>...</td>\n",
       "      <td>san francisco, california</td>\n",
       "      <td>doesn&amp;rsquo;t have kids</td>\n",
       "      <td>straight</td>\n",
       "      <td>NaN</td>\n",
       "      <td>NaN</td>\n",
       "      <td>f</td>\n",
       "      <td>virgo</td>\n",
       "      <td>no</td>\n",
       "      <td>english, chinese</td>\n",
       "      <td>single</td>\n",
       "    </tr>\n",
       "    <tr>\n",
       "      <th>9997</th>\n",
       "      <td>19</td>\n",
       "      <td>athletic</td>\n",
       "      <td>NaN</td>\n",
       "      <td>rarely</td>\n",
       "      <td>never</td>\n",
       "      <td>NaN</td>\n",
       "      <td>heey :)&lt;br /&gt;\\ni am 19 and bi sexual . i have ...</td>\n",
       "      <td>i am currently going to school and so is my bo...</td>\n",
       "      <td>i am really good at sports and photography , i...</td>\n",
       "      <td>my eyes and hair , or so i've been told . lol :)</td>\n",
       "      <td>...</td>\n",
       "      <td>martinez, california</td>\n",
       "      <td>NaN</td>\n",
       "      <td>bisexual</td>\n",
       "      <td>has dogs and has cats</td>\n",
       "      <td>NaN</td>\n",
       "      <td>f</td>\n",
       "      <td>aquarius but it doesn&amp;rsquo;t matter</td>\n",
       "      <td>sometimes</td>\n",
       "      <td>english</td>\n",
       "      <td>seeing someone</td>\n",
       "    </tr>\n",
       "    <tr>\n",
       "      <th>9998</th>\n",
       "      <td>47</td>\n",
       "      <td>a little extra</td>\n",
       "      <td>NaN</td>\n",
       "      <td>rarely</td>\n",
       "      <td>never</td>\n",
       "      <td>NaN</td>\n",
       "      <td>after giving this much thought i have finally ...</td>\n",
       "      <td>just doin me now, if happen chance?!?!?&lt;br /&gt;\\...</td>\n",
       "      <td>learning graphic art&lt;br /&gt;\\nwriting&lt;br /&gt;\\ncoo...</td>\n",
       "      <td>my life is quite simple. i get up in the morni...</td>\n",
       "      <td>...</td>\n",
       "      <td>emeryville, california</td>\n",
       "      <td>NaN</td>\n",
       "      <td>straight</td>\n",
       "      <td>likes dogs and likes cats</td>\n",
       "      <td>other</td>\n",
       "      <td>f</td>\n",
       "      <td>scorpio and it&amp;rsquo;s fun to think about</td>\n",
       "      <td>no</td>\n",
       "      <td>english</td>\n",
       "      <td>single</td>\n",
       "    </tr>\n",
       "    <tr>\n",
       "      <th>9999</th>\n",
       "      <td>29</td>\n",
       "      <td>NaN</td>\n",
       "      <td>mostly vegan</td>\n",
       "      <td>socially</td>\n",
       "      <td>NaN</td>\n",
       "      <td>graduated from college/university</td>\n",
       "      <td>loving life here in disco san francisco and ha...</td>\n",
       "      <td>NaN</td>\n",
       "      <td>singing&lt;br /&gt;\\nworkin' a room&lt;br /&gt;\\naccessori...</td>\n",
       "      <td>big personality&lt;br /&gt;\\nbig eyes</td>\n",
       "      <td>...</td>\n",
       "      <td>san francisco, california</td>\n",
       "      <td>doesn&amp;rsquo;t have kids, but might want them</td>\n",
       "      <td>straight</td>\n",
       "      <td>NaN</td>\n",
       "      <td>NaN</td>\n",
       "      <td>f</td>\n",
       "      <td>leo</td>\n",
       "      <td>no</td>\n",
       "      <td>english, spanish</td>\n",
       "      <td>single</td>\n",
       "    </tr>\n",
       "  </tbody>\n",
       "</table>\n",
       "<p>10000 rows × 31 columns</p>\n",
       "</div>"
      ],
      "text/plain": [
       "      age       body_type               diet    drinks      drugs  \\\n",
       "0      22  a little extra  strictly anything  socially      never   \n",
       "1      35         average       mostly other     often  sometimes   \n",
       "2      38            thin           anything  socially        NaN   \n",
       "3      23            thin         vegetarian  socially        NaN   \n",
       "4      29        athletic                NaN  socially      never   \n",
       "...   ...             ...                ...       ...        ...   \n",
       "9995   24           curvy           anything  socially      never   \n",
       "9996   24          skinny                NaN  socially      never   \n",
       "9997   19        athletic                NaN    rarely      never   \n",
       "9998   47  a little extra                NaN    rarely      never   \n",
       "9999   29             NaN       mostly vegan  socially        NaN   \n",
       "\n",
       "                              education  \\\n",
       "0         working on college/university   \n",
       "1                 working on space camp   \n",
       "2        graduated from masters program   \n",
       "3         working on college/university   \n",
       "4     graduated from college/university   \n",
       "...                                 ...   \n",
       "9995    graduated from two-year college   \n",
       "9996  graduated from college/university   \n",
       "9997                                NaN   \n",
       "9998                                NaN   \n",
       "9999  graduated from college/university   \n",
       "\n",
       "                                                 essay0  \\\n",
       "0     about me:<br />\\n<br />\\ni would love to think...   \n",
       "1     i am a chef: this is what that means.<br />\\n1...   \n",
       "2     i'm not ashamed of much, but writing public te...   \n",
       "3             i work in a library and go to school. . .   \n",
       "4     hey how's it going? currently vague on the pro...   \n",
       "...                                                 ...   \n",
       "9995  hi my name is chantea and i am 23, i am a hair...   \n",
       "9996  i came to the states when i was 17, and i fini...   \n",
       "9997  heey :)<br />\\ni am 19 and bi sexual . i have ...   \n",
       "9998  after giving this much thought i have finally ...   \n",
       "9999  loving life here in disco san francisco and ha...   \n",
       "\n",
       "                                                 essay1  \\\n",
       "0     currently working as an international agent fo...   \n",
       "1     dedicating everyday to being an unbelievable b...   \n",
       "2     i make nerdy software for musicians, artists, ...   \n",
       "3             reading things written by old dead people   \n",
       "4                            work work work work + play   \n",
       "...                                                 ...   \n",
       "9995  right now i work full time at a hair salon and...   \n",
       "9996                                                NaN   \n",
       "9997  i am currently going to school and so is my bo...   \n",
       "9998  just doin me now, if happen chance?!?!?<br />\\...   \n",
       "9999                                                NaN   \n",
       "\n",
       "                                                 essay2  \\\n",
       "0     making people laugh.<br />\\nranting about a go...   \n",
       "1     being silly. having ridiculous amonts of fun w...   \n",
       "2     improvising in different contexts. alternating...   \n",
       "3     playing synthesizers and organizing books acco...   \n",
       "4     creating imagery to look at:<br />\\nhttp://bag...   \n",
       "...                                                 ...   \n",
       "9995  playing basketball... well lets say i use to.....   \n",
       "9996                                                NaN   \n",
       "9997  i am really good at sports and photography , i...   \n",
       "9998  learning graphic art<br />\\nwriting<br />\\ncoo...   \n",
       "9999  singing<br />\\nworkin' a room<br />\\naccessori...   \n",
       "\n",
       "                                                 essay3  ...  \\\n",
       "0     the way i look. i am a six foot half asian, ha...  ...   \n",
       "1                                                   NaN  ...   \n",
       "2     my large jaw and large glasses are the physica...  ...   \n",
       "3                     socially awkward but i do my best  ...   \n",
       "4               i smile a lot and my inquisitive nature  ...   \n",
       "...                                                 ...  ...   \n",
       "9995                                        my hair lol  ...   \n",
       "9996                                                NaN  ...   \n",
       "9997   my eyes and hair , or so i've been told . lol :)  ...   \n",
       "9998  my life is quite simple. i get up in the morni...  ...   \n",
       "9999                    big personality<br />\\nbig eyes  ...   \n",
       "\n",
       "                             location  \\\n",
       "0     south san francisco, california   \n",
       "1                 oakland, california   \n",
       "2           san francisco, california   \n",
       "3                berkeley, california   \n",
       "4           san francisco, california   \n",
       "...                               ...   \n",
       "9995           burlingame, california   \n",
       "9996        san francisco, california   \n",
       "9997             martinez, california   \n",
       "9998           emeryville, california   \n",
       "9999        san francisco, california   \n",
       "\n",
       "                                         offspring orientation  \\\n",
       "0     doesn&rsquo;t have kids, but might want them    straight   \n",
       "1     doesn&rsquo;t have kids, but might want them    straight   \n",
       "2                                              NaN    straight   \n",
       "3                          doesn&rsquo;t want kids    straight   \n",
       "4                                              NaN    straight   \n",
       "...                                            ...         ...   \n",
       "9995                                     has a kid    straight   \n",
       "9996                       doesn&rsquo;t have kids    straight   \n",
       "9997                                           NaN    bisexual   \n",
       "9998                                           NaN    straight   \n",
       "9999  doesn&rsquo;t have kids, but might want them    straight   \n",
       "\n",
       "                           pets                                  religion sex  \\\n",
       "0     likes dogs and likes cats     agnosticism and very serious about it   m   \n",
       "1     likes dogs and likes cats  agnosticism but not too serious about it   m   \n",
       "2                      has cats                                       NaN   m   \n",
       "3                    likes cats                                       NaN   m   \n",
       "4     likes dogs and likes cats                                       NaN   m   \n",
       "...                         ...                                       ...  ..   \n",
       "9995  likes dogs and likes cats    christianity and very serious about it   f   \n",
       "9996                        NaN                                       NaN   f   \n",
       "9997      has dogs and has cats                                       NaN   f   \n",
       "9998  likes dogs and likes cats                                     other   f   \n",
       "9999                        NaN                                       NaN   f   \n",
       "\n",
       "                                           sign         smokes  \\\n",
       "0                                        gemini      sometimes   \n",
       "1                                        cancer             no   \n",
       "2            pisces but it doesn&rsquo;t matter             no   \n",
       "3                                        pisces             no   \n",
       "4                                      aquarius             no   \n",
       "...                                         ...            ...   \n",
       "9995          libra but it doesn&rsquo;t matter  when drinking   \n",
       "9996                                      virgo             no   \n",
       "9997       aquarius but it doesn&rsquo;t matter      sometimes   \n",
       "9998  scorpio and it&rsquo;s fun to think about             no   \n",
       "9999                                        leo             no   \n",
       "\n",
       "                                                 speaks          status  \n",
       "0                                               english          single  \n",
       "1     english (fluently), spanish (poorly), french (...          single  \n",
       "2                                  english, french, c++       available  \n",
       "3                              english, german (poorly)          single  \n",
       "4                                               english          single  \n",
       "...                                                 ...             ...  \n",
       "9995                                            english          single  \n",
       "9996                                   english, chinese          single  \n",
       "9997                                            english  seeing someone  \n",
       "9998                                            english          single  \n",
       "9999                                   english, spanish          single  \n",
       "\n",
       "[10000 rows x 31 columns]"
      ]
     },
     "execution_count": 7,
     "metadata": {},
     "output_type": "execute_result"
    }
   ],
   "source": [
    "url = \"profiles.csv.zip\" if \"profiles.csv.zip\" in os.listdir() else \"https://github.com/rudeboybert/JSE_OkCupid/raw/master/profiles.csv.zip\"\n",
    "print(f\"Getting data from {url}\")\n",
    "okc = pd.read_csv('https://github.com/rudeboybert/JSE_OkCupid/raw/master/profiles.csv.zip', nrows=nrows_to_load)\n",
    "okc"
   ]
  },
  {
   "cell_type": "markdown",
   "metadata": {},
   "source": [
    "We have some categorical / continuous variables about the OK cupid customers:\n",
    "* body type\n",
    "* diet\n",
    "* education\n",
    "* relgion\n",
    "* sex\n",
    "* astro sign\n",
    "* preferences for alcohol, cigarettes, drugs\n",
    "* sexual orientation\n",
    "* relationship status\n",
    "* language\n",
    "* location\n",
    "\n",
    "\n",
    "But they also needed to answer some questions (textual data):\n",
    "\n",
    "* essay0- My self summary\n",
    "* essay1- What I’m doing with my life\n",
    "* essay2- I’m really good at\n",
    "* essay3- The first thing people usually notice about me\n",
    "* essay4- Favorite books, movies, show, music, and food\n",
    "* essay5- The six things I could never do without\n",
    "* essay6- I spend a lot of time thinking about\n",
    "* essay7- On a typical Friday night I am\n",
    "* essay8- The most private thing I am willing to admit\n",
    "* essay9- You should message me if...\n",
    "\n",
    "Source: https://github.com/rudeboybert/JSE_OkCupid/blob/master/okcupid_codebook.txt  \n"
   ]
  },
  {
   "cell_type": "markdown",
   "metadata": {},
   "source": [
    "### Drop some columns"
   ]
  },
  {
   "cell_type": "code",
   "execution_count": 8,
   "metadata": {},
   "outputs": [
    {
     "data": {
      "text/plain": [
       "Index(['age', 'body_type', 'diet', 'drinks', 'drugs', 'education', 'essay0',\n",
       "       'essay1', 'essay2', 'essay3', 'essay4', 'essay5', 'essay6', 'essay7',\n",
       "       'essay8', 'essay9', 'ethnicity', 'height', 'income', 'job',\n",
       "       'last_online', 'location', 'offspring', 'orientation', 'pets',\n",
       "       'religion', 'sex', 'sign', 'smokes', 'speaks', 'status'],\n",
       "      dtype='object')"
      ]
     },
     "execution_count": 8,
     "metadata": {},
     "output_type": "execute_result"
    }
   ],
   "source": [
    "okc.columns"
   ]
  },
  {
   "cell_type": "code",
   "execution_count": 9,
   "metadata": {},
   "outputs": [],
   "source": [
    "okc = okc.drop(['essay1', 'essay2', 'essay3', 'essay4', 'essay5', 'essay6', 'essay8'], axis=1)"
   ]
  },
  {
   "cell_type": "code",
   "execution_count": 10,
   "metadata": {},
   "outputs": [],
   "source": [
    "okc = okc.rename(columns={\"essay0\": \"myself_summary\", \"essay7\": \"typical_friday_night\", \"essay9\": \"message_me_if\"})"
   ]
  },
  {
   "cell_type": "code",
   "execution_count": 11,
   "metadata": {},
   "outputs": [
    {
     "data": {
      "text/html": [
       "<div>\n",
       "<style scoped>\n",
       "    .dataframe tbody tr th:only-of-type {\n",
       "        vertical-align: middle;\n",
       "    }\n",
       "\n",
       "    .dataframe tbody tr th {\n",
       "        vertical-align: top;\n",
       "    }\n",
       "\n",
       "    .dataframe thead th {\n",
       "        text-align: right;\n",
       "    }\n",
       "</style>\n",
       "<table border=\"1\" class=\"dataframe\">\n",
       "  <thead>\n",
       "    <tr style=\"text-align: right;\">\n",
       "      <th></th>\n",
       "      <th>age</th>\n",
       "      <th>body_type</th>\n",
       "      <th>diet</th>\n",
       "      <th>drinks</th>\n",
       "      <th>drugs</th>\n",
       "      <th>education</th>\n",
       "      <th>myself_summary</th>\n",
       "      <th>typical_friday_night</th>\n",
       "      <th>message_me_if</th>\n",
       "      <th>ethnicity</th>\n",
       "      <th>...</th>\n",
       "      <th>location</th>\n",
       "      <th>offspring</th>\n",
       "      <th>orientation</th>\n",
       "      <th>pets</th>\n",
       "      <th>religion</th>\n",
       "      <th>sex</th>\n",
       "      <th>sign</th>\n",
       "      <th>smokes</th>\n",
       "      <th>speaks</th>\n",
       "      <th>status</th>\n",
       "    </tr>\n",
       "  </thead>\n",
       "  <tbody>\n",
       "    <tr>\n",
       "      <th>0</th>\n",
       "      <td>22</td>\n",
       "      <td>a little extra</td>\n",
       "      <td>strictly anything</td>\n",
       "      <td>socially</td>\n",
       "      <td>never</td>\n",
       "      <td>working on college/university</td>\n",
       "      <td>about me:&lt;br /&gt;\\n&lt;br /&gt;\\ni would love to think...</td>\n",
       "      <td>trying to find someone to hang out with. i am ...</td>\n",
       "      <td>you want to be swept off your feet!&lt;br /&gt;\\nyou...</td>\n",
       "      <td>asian, white</td>\n",
       "      <td>...</td>\n",
       "      <td>south san francisco, california</td>\n",
       "      <td>doesn&amp;rsquo;t have kids, but might want them</td>\n",
       "      <td>straight</td>\n",
       "      <td>likes dogs and likes cats</td>\n",
       "      <td>agnosticism and very serious about it</td>\n",
       "      <td>m</td>\n",
       "      <td>gemini</td>\n",
       "      <td>sometimes</td>\n",
       "      <td>english</td>\n",
       "      <td>single</td>\n",
       "    </tr>\n",
       "    <tr>\n",
       "      <th>1</th>\n",
       "      <td>35</td>\n",
       "      <td>average</td>\n",
       "      <td>mostly other</td>\n",
       "      <td>often</td>\n",
       "      <td>sometimes</td>\n",
       "      <td>working on space camp</td>\n",
       "      <td>i am a chef: this is what that means.&lt;br /&gt;\\n1...</td>\n",
       "      <td>NaN</td>\n",
       "      <td>NaN</td>\n",
       "      <td>white</td>\n",
       "      <td>...</td>\n",
       "      <td>oakland, california</td>\n",
       "      <td>doesn&amp;rsquo;t have kids, but might want them</td>\n",
       "      <td>straight</td>\n",
       "      <td>likes dogs and likes cats</td>\n",
       "      <td>agnosticism but not too serious about it</td>\n",
       "      <td>m</td>\n",
       "      <td>cancer</td>\n",
       "      <td>no</td>\n",
       "      <td>english (fluently), spanish (poorly), french (...</td>\n",
       "      <td>single</td>\n",
       "    </tr>\n",
       "    <tr>\n",
       "      <th>2</th>\n",
       "      <td>38</td>\n",
       "      <td>thin</td>\n",
       "      <td>anything</td>\n",
       "      <td>socially</td>\n",
       "      <td>NaN</td>\n",
       "      <td>graduated from masters program</td>\n",
       "      <td>i'm not ashamed of much, but writing public te...</td>\n",
       "      <td>viewing. listening. dancing. talking. drinking...</td>\n",
       "      <td>you are bright, open, intense, silly, ironic, ...</td>\n",
       "      <td>NaN</td>\n",
       "      <td>...</td>\n",
       "      <td>san francisco, california</td>\n",
       "      <td>NaN</td>\n",
       "      <td>straight</td>\n",
       "      <td>has cats</td>\n",
       "      <td>NaN</td>\n",
       "      <td>m</td>\n",
       "      <td>pisces but it doesn&amp;rsquo;t matter</td>\n",
       "      <td>no</td>\n",
       "      <td>english, french, c++</td>\n",
       "      <td>available</td>\n",
       "    </tr>\n",
       "    <tr>\n",
       "      <th>3</th>\n",
       "      <td>23</td>\n",
       "      <td>thin</td>\n",
       "      <td>vegetarian</td>\n",
       "      <td>socially</td>\n",
       "      <td>NaN</td>\n",
       "      <td>working on college/university</td>\n",
       "      <td>i work in a library and go to school. . .</td>\n",
       "      <td>NaN</td>\n",
       "      <td>you feel so inclined.</td>\n",
       "      <td>white</td>\n",
       "      <td>...</td>\n",
       "      <td>berkeley, california</td>\n",
       "      <td>doesn&amp;rsquo;t want kids</td>\n",
       "      <td>straight</td>\n",
       "      <td>likes cats</td>\n",
       "      <td>NaN</td>\n",
       "      <td>m</td>\n",
       "      <td>pisces</td>\n",
       "      <td>no</td>\n",
       "      <td>english, german (poorly)</td>\n",
       "      <td>single</td>\n",
       "    </tr>\n",
       "    <tr>\n",
       "      <th>4</th>\n",
       "      <td>29</td>\n",
       "      <td>athletic</td>\n",
       "      <td>NaN</td>\n",
       "      <td>socially</td>\n",
       "      <td>never</td>\n",
       "      <td>graduated from college/university</td>\n",
       "      <td>hey how's it going? currently vague on the pro...</td>\n",
       "      <td>NaN</td>\n",
       "      <td>NaN</td>\n",
       "      <td>asian, black, other</td>\n",
       "      <td>...</td>\n",
       "      <td>san francisco, california</td>\n",
       "      <td>NaN</td>\n",
       "      <td>straight</td>\n",
       "      <td>likes dogs and likes cats</td>\n",
       "      <td>NaN</td>\n",
       "      <td>m</td>\n",
       "      <td>aquarius</td>\n",
       "      <td>no</td>\n",
       "      <td>english</td>\n",
       "      <td>single</td>\n",
       "    </tr>\n",
       "  </tbody>\n",
       "</table>\n",
       "<p>5 rows × 24 columns</p>\n",
       "</div>"
      ],
      "text/plain": [
       "   age       body_type               diet    drinks      drugs  \\\n",
       "0   22  a little extra  strictly anything  socially      never   \n",
       "1   35         average       mostly other     often  sometimes   \n",
       "2   38            thin           anything  socially        NaN   \n",
       "3   23            thin         vegetarian  socially        NaN   \n",
       "4   29        athletic                NaN  socially      never   \n",
       "\n",
       "                           education  \\\n",
       "0      working on college/university   \n",
       "1              working on space camp   \n",
       "2     graduated from masters program   \n",
       "3      working on college/university   \n",
       "4  graduated from college/university   \n",
       "\n",
       "                                      myself_summary  \\\n",
       "0  about me:<br />\\n<br />\\ni would love to think...   \n",
       "1  i am a chef: this is what that means.<br />\\n1...   \n",
       "2  i'm not ashamed of much, but writing public te...   \n",
       "3          i work in a library and go to school. . .   \n",
       "4  hey how's it going? currently vague on the pro...   \n",
       "\n",
       "                                typical_friday_night  \\\n",
       "0  trying to find someone to hang out with. i am ...   \n",
       "1                                                NaN   \n",
       "2  viewing. listening. dancing. talking. drinking...   \n",
       "3                                                NaN   \n",
       "4                                                NaN   \n",
       "\n",
       "                                       message_me_if            ethnicity  \\\n",
       "0  you want to be swept off your feet!<br />\\nyou...         asian, white   \n",
       "1                                                NaN                white   \n",
       "2  you are bright, open, intense, silly, ironic, ...                  NaN   \n",
       "3                              you feel so inclined.                white   \n",
       "4                                                NaN  asian, black, other   \n",
       "\n",
       "   ...                         location  \\\n",
       "0  ...  south san francisco, california   \n",
       "1  ...              oakland, california   \n",
       "2  ...        san francisco, california   \n",
       "3  ...             berkeley, california   \n",
       "4  ...        san francisco, california   \n",
       "\n",
       "                                      offspring orientation  \\\n",
       "0  doesn&rsquo;t have kids, but might want them    straight   \n",
       "1  doesn&rsquo;t have kids, but might want them    straight   \n",
       "2                                           NaN    straight   \n",
       "3                       doesn&rsquo;t want kids    straight   \n",
       "4                                           NaN    straight   \n",
       "\n",
       "                        pets                                  religion sex  \\\n",
       "0  likes dogs and likes cats     agnosticism and very serious about it   m   \n",
       "1  likes dogs and likes cats  agnosticism but not too serious about it   m   \n",
       "2                   has cats                                       NaN   m   \n",
       "3                 likes cats                                       NaN   m   \n",
       "4  likes dogs and likes cats                                       NaN   m   \n",
       "\n",
       "                                 sign     smokes  \\\n",
       "0                              gemini  sometimes   \n",
       "1                              cancer         no   \n",
       "2  pisces but it doesn&rsquo;t matter         no   \n",
       "3                              pisces         no   \n",
       "4                            aquarius         no   \n",
       "\n",
       "                                              speaks     status  \n",
       "0                                            english     single  \n",
       "1  english (fluently), spanish (poorly), french (...     single  \n",
       "2                               english, french, c++  available  \n",
       "3                           english, german (poorly)     single  \n",
       "4                                            english     single  \n",
       "\n",
       "[5 rows x 24 columns]"
      ]
     },
     "execution_count": 11,
     "metadata": {},
     "output_type": "execute_result"
    }
   ],
   "source": [
    "okc.head()"
   ]
  },
  {
   "cell_type": "markdown",
   "metadata": {},
   "source": [
    "## NLPeasy Pipeline"
   ]
  },
  {
   "cell_type": "markdown",
   "metadata": {},
   "source": [
    "First step is to construct pipeline object:"
   ]
  },
  {
   "cell_type": "code",
   "execution_count": 12,
   "metadata": {},
   "outputs": [],
   "source": [
    "pipeline = ne.Pipeline(index='okc-intro',\n",
    "                       text_cols=['myself_summary', 'typical_friday_night', 'message_me_if'],\n",
    "                       num_cols = ['age', 'height', 'income'],\n",
    "                       tag_cols=['body_type', 'diet', 'drinks', 'drugs', 'education'],\n",
    "                       elk=elk)"
   ]
  },
  {
   "cell_type": "markdown",
   "metadata": {},
   "source": [
    "Now let's add stages in the pipeline!"
   ]
  },
  {
   "cell_type": "markdown",
   "metadata": {},
   "source": [
    "NLPeasy pipelines can have as few or as many stages as you wish. Here we just use the following:\n",
    "* `VaderSentiment` is a nice rule-based sentiment prediction for english.\n",
    "* `Spacy` uses the `spacy` package together with it's language model - here english small (=sm) or medium (=md).\n",
    "    We use it for a couple of enrichments, as you will see below.\n",
    "\n",
    "There are more stages in NLPeasy you can use (e.g. RegexTag Extraction, Splitting) or you can define your own functions there."
   ]
  },
  {
   "cell_type": "markdown",
   "metadata": {},
   "source": [
    "First the pipeline should calculate sentiments to all of the text columns. The first parameter specifies for which column, the second one stipulates the name of the output column:"
   ]
  },
  {
   "cell_type": "code",
   "execution_count": 13,
   "metadata": {},
   "outputs": [],
   "source": [
    "pipeline += ne.VaderSentiment('myself_summary', 'myself_summary_sentiment')"
   ]
  },
  {
   "cell_type": "markdown",
   "metadata": {},
   "source": [
    "Now we will add NLPeasy's spaCy enrichemnt."
   ]
  },
  {
   "cell_type": "markdown",
   "metadata": {},
   "source": [
    "For small environments (like on binder) do it just for one column. Also we then only use the small model which does not provide vectors."
   ]
  },
  {
   "cell_type": "code",
   "execution_count": 14,
   "metadata": {},
   "outputs": [
    {
     "data": {
      "text/plain": [
       "'spacy_model=en_core_web_md'"
      ]
     },
     "execution_count": 14,
     "metadata": {},
     "output_type": "execute_result"
    }
   ],
   "source": [
    "f\"spacy_model={spacy_model}\""
   ]
  },
  {
   "cell_type": "markdown",
   "metadata": {},
   "source": [
    "The spacy model takes ~30 secs to load:"
   ]
  },
  {
   "cell_type": "code",
   "execution_count": 15,
   "metadata": {},
   "outputs": [],
   "source": [
    "pipeline += ne.SpacyEnrichment(nlp=spacy_model,\n",
    "                               cols=['myself_summary'])"
   ]
  },
  {
   "cell_type": "markdown",
   "metadata": {},
   "source": [
    "###### Run the pipeline - Spacy needs some time to process, so these ~60000 messages take about 100 minutes to process."
   ]
  },
  {
   "cell_type": "markdown",
   "metadata": {},
   "source": [
    "We do this for a subset of the data as it will take too long otherwise."
   ]
  },
  {
   "cell_type": "code",
   "execution_count": 16,
   "metadata": {},
   "outputs": [
    {
     "name": "stdout",
     "output_type": "stream",
     "text": [
      "100/100 [==============================] - 2s 27ms/step\n"
     ]
    }
   ],
   "source": [
    "okc_enriched = pipeline.process(okc.head(100), write_elastic=True, batchsize=20)"
   ]
  },
  {
   "cell_type": "markdown",
   "metadata": {},
   "source": [
    "Create Kibana Dashboard of all the columns"
   ]
  },
  {
   "cell_type": "code",
   "execution_count": 17,
   "metadata": {},
   "outputs": [
    {
     "name": "stdout",
     "output_type": "stream",
     "text": [
      "Trying to do a histogram on str values: 20 - 46\n",
      "Trying to do a histogram on str values: 60 - 78\n",
      "Trying to do a histogram on str values: -1 - 1000000\n",
      "Trying to do a histogram on str values: -0.5574 - 0.9995\n",
      "okc-intro: adding index-pattern\n",
      "okc-intro: adding search\n",
      "okc-intro: adding visualisation for body_type\n",
      "okc-intro: adding visualisation for diet\n",
      "okc-intro: adding visualisation for drinks\n",
      "okc-intro: adding visualisation for drugs\n",
      "okc-intro: adding visualisation for education\n",
      "okc-intro: adding visualisation for myself_summary_ents\n",
      "okc-intro: adding visualisation for myself_summary_subj\n",
      "okc-intro: adding visualisation for myself_summary_verb\n",
      "okc-intro: adding visualisation for myself_summary\n",
      "okc-intro: adding visualisation for typical_friday_night\n",
      "okc-intro: adding visualisation for message_me_if\n",
      "okc-intro: adding visualisation for age\n",
      "okc-intro: adding visualisation for height\n",
      "okc-intro: adding visualisation for income\n",
      "okc-intro: adding visualisation for myself_summary_sentiment\n",
      "okc-intro: adding dashboard\n",
      "okc-intro: setting time defaults\n"
     ]
    }
   ],
   "source": [
    "pipeline.create_kibana_dashboard()"
   ]
  },
  {
   "cell_type": "markdown",
   "metadata": {},
   "source": [
    "Open Kibana in webbrowser"
   ]
  },
  {
   "cell_type": "code",
   "execution_count": 18,
   "metadata": {},
   "outputs": [
    {
     "data": {
      "text/html": [
       "Kibana on <a href='http://localhost:5601'>http://localhost:5601</a>"
      ],
      "text/plain": [
       "Kibana on http://localhost:5601"
      ]
     },
     "execution_count": 18,
     "metadata": {},
     "output_type": "execute_result"
    }
   ],
   "source": [
    "util.display_kibana_link() if util.BINDER else elk.kibana"
   ]
  },
  {
   "cell_type": "markdown",
   "metadata": {},
   "source": [
    "Oh, and you wonder what took so long in the upload?"
   ]
  },
  {
   "cell_type": "code",
   "execution_count": 19,
   "metadata": {},
   "outputs": [
    {
     "name": "stdout",
     "output_type": "stream",
     "text": [
      "global / process: 2.7s\n",
      "Stage 1 / VaderSentiment: 218ms\n",
      "Stage 2 / SpacyEnrichment: 1.8s\n",
      "SpacyEnrichment / spacy make iter: 36.0us\n",
      "SpacyEnrichment / spacy iter: 1.5s\n",
      "SpacyEnrichment / process spacy docs: 245ms\n",
      "elastic / upload: 670ms\n",
      "global / concat results: 14ms\n",
      "global / min_max_calc: 1.8ms\n"
     ]
    }
   ],
   "source": [
    "pipeline._tictoc.summary()"
   ]
  },
  {
   "cell_type": "code",
   "execution_count": null,
   "metadata": {},
   "outputs": [],
   "source": []
  }
 ],
 "metadata": {
  "kernelspec": {
   "display_name": "Python 3",
   "language": "python",
   "name": "python3"
  },
  "language_info": {
   "codemirror_mode": {
    "name": "ipython",
    "version": 3
   },
   "file_extension": ".py",
   "mimetype": "text/x-python",
   "name": "python",
   "nbconvert_exporter": "python",
   "pygments_lexer": "ipython3",
   "version": "3.8.0"
  }
 },
 "nbformat": 4,
 "nbformat_minor": 4
}
